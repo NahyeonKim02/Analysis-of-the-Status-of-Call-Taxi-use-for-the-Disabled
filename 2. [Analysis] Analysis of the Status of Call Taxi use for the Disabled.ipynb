{
  "nbformat": 4,
  "nbformat_minor": 0,
  "metadata": {
    "colab": {
      "provenance": []
    },
    "kernelspec": {
      "name": "python3",
      "display_name": "Python 3"
    },
    "language_info": {
      "name": "python"
    }
  },
  "cells": [
    {
      "cell_type": "markdown",
      "source": [
        "**혹시나 코드를 실행할 일이 생길 땐 한번에 코드를 돌리지 말고 그래프 모듈 import부터는 그 위의 코드가 전부 돌아간 뒤에 돌려야 나눔고딕체가 제대로 사용됨.**\n",
        "\n"
      ],
      "metadata": {
        "id": "imfnks7YhXPM"
      }
    },
    {
      "cell_type": "code",
      "execution_count": 11,
      "metadata": {
        "id": "C0rVbQnYYRru"
      },
      "outputs": [],
      "source": [
        "#필요한 모듈 import\n",
        "import re\n",
        "import lxml\n",
        "import requests\n",
        "from bs4 import BeautifulSoup\n",
        "import pandas as pd\n",
        "import time\n",
        "import math\n",
        "from datetime import datetime, timedelta\n",
        "import pandas as pd\n",
        "import seaborn as sns\n",
        "import numpy as np"
      ]
    },
    {
      "cell_type": "code",
      "source": [
        "\"\"\"\n",
        "  날짜 문자열을 날짜로 변환하는 함수\n",
        "\n",
        "  입력 값\n",
        "    \"2024-05-01\"\n",
        "    \"2024-05-01 오전 12:05:47\"\n",
        "\"\"\"\n",
        "def ConvertDate(in_date):\n",
        "\n",
        "  list_date = re.split('[-: ]',in_date)\n",
        "\n",
        "  intyear = int(list_date[0])\n",
        "  intmonth = int(list_date[1])\n",
        "  intday = int(list_date[2])\n",
        "  inthour = 0\n",
        "  intmin = 0\n",
        "  intsec = 0\n",
        "\n",
        "  if len(list_date) == 7:\n",
        "    inthour = int(list_date[4])\n",
        "    if list_date[3] == '오전':\n",
        "      if inthour == 12:\n",
        "        inthour = 0\n",
        "    else:\n",
        "      if inthour != 12:\n",
        "        inthour = inthour + 12\n",
        "    intmin = int(list_date[5])\n",
        "    intsec = int(list_date[6])\n",
        "\n",
        "  datevalue = datetime(year=intyear, month=intmonth, day=intday, hour=inthour, minute=intmin, second=intsec)\n",
        "  return datevalue\n",
        "\n",
        "\"\"\"\n",
        "  서비스설명 : 장애인콜택시 이용 정보입니다. (Open API서비스는 최소 하루 전 데이터 요청만 가능합니다.)\n",
        "\n",
        "  샘플URL\n",
        "    장애인콜시스템\n",
        "    http://openapi.seoul.go.kr:8088/(인증키)/xml/disabledCalltaxi/1/5/20210901\n",
        "\n",
        "  요청인자\n",
        "    변수명\t    타입\t        변수설명\t        값설명\n",
        "    KEY\t        String(필수)\t인증키\t          OpenAPI 에서 발급된 인증키\n",
        "    TYPE\t      String(필수)\t요청파일타입\t    xml : xml\n",
        "    SERVICE\t    String(필수)\t서비스명\t        disabledCalltaxi\n",
        "    START_INDEX\tINTEGER(필수)\t요청시작위치\t    정수 입력 (페이징 시작번호 입니다 : 데이터 행 시작번호)\n",
        "    END_INDEX\t  INTEGER(필수)\t요청종료위치\t    정수 입력 (페이징 끝번호 입니다 : 데이터 행 끝번호)\n",
        "    REG_DATE\t  STRING(필수)\t요청일\n",
        "\n",
        "  출력값\n",
        "    No\t  출력명\t          출력설명\n",
        "    공통\tlist_total_count\t총 데이터 건수 (정상조회 시 출력됨)\n",
        "    공통\tRESULT.CODE\t      요청결과 코드 (하단 메세지설명 참고)\n",
        "    공통\tRESULT.MESSAGE\t  요청결과 메시지 (하단 메세지설명 참고)\n",
        "    1\t    LIST_TOTAL_COUNT\t총조회건수\n",
        "    2\t    RESULT.CODE\t      결과코드\n",
        "    3\t    RESULT.MESSAGE\t  메시지\n",
        "    4\t    NO\t              차량고유번호\n",
        "    5\t    CARTYPE\t          차량타입\n",
        "    6\t    RECEIPTIME\t      예정일시\n",
        "    7\t    SETTIME\t          배차일시\n",
        "    8\t    RIDETIME\t        승차일시\n",
        "    9\t    STARTPOS1\t        출발지구군\n",
        "    10\t  STARTPOS2\t        출발지상세\n",
        "    11\t  ENDPOS1\t          목적지구군\n",
        "    12\t  ENDPOS2\t          목적지상세\n",
        "\"\"\"\n",
        "def findDisabledCallTaxi(findDate):\n",
        "  service_key = '4f43556a6c6f666637346f4b456962'\n",
        "\n",
        "  url = f'http://openapi.seoul.go.kr:8088/{service_key}/xml/disabledCalltaxi/1/100/'+findDate\n",
        "\n",
        "  req = requests.get(url)\n",
        "  soup = BeautifulSoup(req.text, 'html.parser')\n",
        "\n",
        "  NOs = soup.find_all('no')\n",
        "  CARTYPEs = soup.find_all('cartype')\n",
        "  RECEIPTIMEs = soup.find_all('receipttime')\n",
        "  SETTIMEs = soup.find_all('settime')\n",
        "  RIDETIMEs = soup.find_all('ridetime')\n",
        "  STARTPOS1s = soup.find_all('startpos1')\n",
        "  STARTPSO2s = soup.find_all('startpos2')\n",
        "  ENDPOS1s = soup.find_all('endpos1')\n",
        "  ENDPOS2s = soup.find_all('endpos2')\n",
        "\n",
        "  NO_list =[]\n",
        "  CARTYPE_list =[]\n",
        "  RECEIPTIME_list =[]\n",
        "  SETTIME_list =[]\n",
        "  RIDETIME_list =[]\n",
        "  STARTPOS1_list =[]\n",
        "  STARTPSO2_list =[]\n",
        "  ENDPOS1_list =[]\n",
        "  ENDPOS2_list =[]\n",
        "  TIME1_list = []\n",
        "  TIME2_list = []\n",
        "  TIME3_list = []\n",
        "\n",
        "  for NO,CARTYPE,RECEIPTIME,SETTIME,RIDETIME,STARTPOS1,STARTPSO2,ENDPOS1,ENDPOS2 in zip(NOs,CARTYPEs,RECEIPTIMEs,SETTIMEs,RIDETIMEs,STARTPOS1s,STARTPSO2s,ENDPOS1s,ENDPOS2s):\n",
        "    # 'CARTYPE' 필드의 값이 없는 경우는 데이터로 인정하지 않는다.\n",
        "    if CARTYPE.get_text() != '':\n",
        "\n",
        "      # 'CARTYPE' 값을 정리 : '중형 승합', '중형승합', '중형승용', '대형 승용', '중형 승용', '대형승용', '중영 승용',\n",
        "      cartype = CARTYPE.get_text()\n",
        "      if cartype == '중형승합':\n",
        "        cartype = '중형 승합'\n",
        "      elif cartype == '중형승용':\n",
        "        cartype = '중형 승용'\n",
        "      elif cartype == '중영 승용':\n",
        "        cartype = '중형 승용'\n",
        "      elif cartype == '대형승용':\n",
        "        cartype = '대형 승용'\n",
        "\n",
        "      receiptime = ConvertDate(RECEIPTIME.get_text())\n",
        "      settime = ConvertDate(SETTIME.get_text())\n",
        "      ridetime = ConvertDate(RIDETIME.get_text())\n",
        "\n",
        "      time1 = settime - receiptime\n",
        "      time2 = ridetime - settime\n",
        "      time3 = ridetime - receiptime\n",
        "\n",
        "      # 시간 계산이 이전 시간인 경우 데이터 불인정\n",
        "      if ridetime>=settime and settime >= receiptime:\n",
        "        NO_list.append(NO.get_text())\n",
        "        CARTYPE_list.append(cartype)\n",
        "        RECEIPTIME_list.append(receiptime)\n",
        "        SETTIME_list.append(settime)\n",
        "        RIDETIME_list.append(ridetime)\n",
        "        STARTPOS1_list.append(STARTPOS1.get_text())\n",
        "        STARTPSO2_list.append(STARTPSO2.get_text())\n",
        "        ENDPOS1_list.append(ENDPOS1.get_text())\n",
        "        ENDPOS2_list.append(ENDPOS2.get_text())\n",
        "\n",
        "        TIME1_list.append(time1)\n",
        "        TIME2_list.append(time2)\n",
        "        TIME3_list.append(time3)\n",
        "\n",
        "  df = pd.DataFrame({\n",
        "    'NO' : NO_list,\n",
        "    'CARTYPE' : CARTYPE_list,\n",
        "    'RECEIPTIME' : RECEIPTIME_list,\n",
        "    'SETTIME' : SETTIME_list,\n",
        "    'RIDETIME' : RIDETIME_list,\n",
        "    'STARTPOS1' : STARTPOS1_list,\n",
        "    'STARTPSO2' : STARTPSO2_list,\n",
        "    'ENDPOS1' : ENDPOS1_list,\n",
        "    'ENDPOS2' : ENDPOS2_list,\n",
        "    'TIME1' : TIME1_list,\n",
        "    'TIME2' : TIME2_list,\n",
        "    'TIME3' : TIME3_list\n",
        "  })\n",
        "\n",
        "  return df\n",
        "\n",
        "sDate = datetime(2024, 5, 1, 0, 0, 0)\n",
        "\n",
        "for i in range(0,10):\n",
        "  dt = sDate + timedelta(days=i)\n",
        "  strDate = dt.strftime('%04Y%02m%02d')\n",
        "  df = findDisabledCallTaxi(strDate)\n",
        "  print(\"Date = \", strDate, \" Count = \", df[['NO']].count(),\"--------------------------------------------------\")\n",
        "  if i == 0:\n",
        "    DisabledCallTaxi = df\n",
        "  else:\n",
        "    DisabledCallTaxi = pd.concat([DisabledCallTaxi, df])"
      ],
      "metadata": {
        "id": "n9NBF5cCCuIB",
        "colab": {
          "base_uri": "https://localhost:8080/"
        },
        "outputId": "c018180e-cb54-47a4-fb41-81255a555997",
        "collapsed": true
      },
      "execution_count": 2,
      "outputs": [
        {
          "output_type": "stream",
          "name": "stderr",
          "text": [
            "/usr/lib/python3.10/html/parser.py:170: XMLParsedAsHTMLWarning: It looks like you're parsing an XML document using an HTML parser. If this really is an HTML document (maybe it's XHTML?), you can ignore or filter this warning. If it's XML, you should know that using an XML parser will be more reliable. To parse this document as XML, make sure you have the lxml package installed, and pass the keyword argument `features=\"xml\"` into the BeautifulSoup constructor.\n",
            "  k = self.parse_starttag(i)\n"
          ]
        },
        {
          "output_type": "stream",
          "name": "stdout",
          "text": [
            "Date =  20240501  Count =  NO    2252\n",
            "dtype: int64 --------------------------------------------------\n"
          ]
        },
        {
          "output_type": "stream",
          "name": "stderr",
          "text": [
            "/usr/lib/python3.10/html/parser.py:170: XMLParsedAsHTMLWarning: It looks like you're parsing an XML document using an HTML parser. If this really is an HTML document (maybe it's XHTML?), you can ignore or filter this warning. If it's XML, you should know that using an XML parser will be more reliable. To parse this document as XML, make sure you have the lxml package installed, and pass the keyword argument `features=\"xml\"` into the BeautifulSoup constructor.\n",
            "  k = self.parse_starttag(i)\n"
          ]
        },
        {
          "output_type": "stream",
          "name": "stdout",
          "text": [
            "Date =  20240502  Count =  NO    4825\n",
            "dtype: int64 --------------------------------------------------\n"
          ]
        },
        {
          "output_type": "stream",
          "name": "stderr",
          "text": [
            "/usr/lib/python3.10/html/parser.py:170: XMLParsedAsHTMLWarning: It looks like you're parsing an XML document using an HTML parser. If this really is an HTML document (maybe it's XHTML?), you can ignore or filter this warning. If it's XML, you should know that using an XML parser will be more reliable. To parse this document as XML, make sure you have the lxml package installed, and pass the keyword argument `features=\"xml\"` into the BeautifulSoup constructor.\n",
            "  k = self.parse_starttag(i)\n"
          ]
        },
        {
          "output_type": "stream",
          "name": "stdout",
          "text": [
            "Date =  20240503  Count =  NO    4680\n",
            "dtype: int64 --------------------------------------------------\n"
          ]
        },
        {
          "output_type": "stream",
          "name": "stderr",
          "text": [
            "/usr/lib/python3.10/html/parser.py:170: XMLParsedAsHTMLWarning: It looks like you're parsing an XML document using an HTML parser. If this really is an HTML document (maybe it's XHTML?), you can ignore or filter this warning. If it's XML, you should know that using an XML parser will be more reliable. To parse this document as XML, make sure you have the lxml package installed, and pass the keyword argument `features=\"xml\"` into the BeautifulSoup constructor.\n",
            "  k = self.parse_starttag(i)\n"
          ]
        },
        {
          "output_type": "stream",
          "name": "stdout",
          "text": [
            "Date =  20240504  Count =  NO    2033\n",
            "dtype: int64 --------------------------------------------------\n"
          ]
        },
        {
          "output_type": "stream",
          "name": "stderr",
          "text": [
            "/usr/lib/python3.10/html/parser.py:170: XMLParsedAsHTMLWarning: It looks like you're parsing an XML document using an HTML parser. If this really is an HTML document (maybe it's XHTML?), you can ignore or filter this warning. If it's XML, you should know that using an XML parser will be more reliable. To parse this document as XML, make sure you have the lxml package installed, and pass the keyword argument `features=\"xml\"` into the BeautifulSoup constructor.\n",
            "  k = self.parse_starttag(i)\n"
          ]
        },
        {
          "output_type": "stream",
          "name": "stdout",
          "text": [
            "Date =  20240505  Count =  NO    1542\n",
            "dtype: int64 --------------------------------------------------\n"
          ]
        },
        {
          "output_type": "stream",
          "name": "stderr",
          "text": [
            "/usr/lib/python3.10/html/parser.py:170: XMLParsedAsHTMLWarning: It looks like you're parsing an XML document using an HTML parser. If this really is an HTML document (maybe it's XHTML?), you can ignore or filter this warning. If it's XML, you should know that using an XML parser will be more reliable. To parse this document as XML, make sure you have the lxml package installed, and pass the keyword argument `features=\"xml\"` into the BeautifulSoup constructor.\n",
            "  k = self.parse_starttag(i)\n"
          ]
        },
        {
          "output_type": "stream",
          "name": "stdout",
          "text": [
            "Date =  20240506  Count =  NO    1571\n",
            "dtype: int64 --------------------------------------------------\n"
          ]
        },
        {
          "output_type": "stream",
          "name": "stderr",
          "text": [
            "/usr/lib/python3.10/html/parser.py:170: XMLParsedAsHTMLWarning: It looks like you're parsing an XML document using an HTML parser. If this really is an HTML document (maybe it's XHTML?), you can ignore or filter this warning. If it's XML, you should know that using an XML parser will be more reliable. To parse this document as XML, make sure you have the lxml package installed, and pass the keyword argument `features=\"xml\"` into the BeautifulSoup constructor.\n",
            "  k = self.parse_starttag(i)\n"
          ]
        },
        {
          "output_type": "stream",
          "name": "stdout",
          "text": [
            "Date =  20240507  Count =  NO    4691\n",
            "dtype: int64 --------------------------------------------------\n"
          ]
        },
        {
          "output_type": "stream",
          "name": "stderr",
          "text": [
            "/usr/lib/python3.10/html/parser.py:170: XMLParsedAsHTMLWarning: It looks like you're parsing an XML document using an HTML parser. If this really is an HTML document (maybe it's XHTML?), you can ignore or filter this warning. If it's XML, you should know that using an XML parser will be more reliable. To parse this document as XML, make sure you have the lxml package installed, and pass the keyword argument `features=\"xml\"` into the BeautifulSoup constructor.\n",
            "  k = self.parse_starttag(i)\n"
          ]
        },
        {
          "output_type": "stream",
          "name": "stdout",
          "text": [
            "Date =  20240508  Count =  NO    4693\n",
            "dtype: int64 --------------------------------------------------\n"
          ]
        },
        {
          "output_type": "stream",
          "name": "stderr",
          "text": [
            "/usr/lib/python3.10/html/parser.py:170: XMLParsedAsHTMLWarning: It looks like you're parsing an XML document using an HTML parser. If this really is an HTML document (maybe it's XHTML?), you can ignore or filter this warning. If it's XML, you should know that using an XML parser will be more reliable. To parse this document as XML, make sure you have the lxml package installed, and pass the keyword argument `features=\"xml\"` into the BeautifulSoup constructor.\n",
            "  k = self.parse_starttag(i)\n"
          ]
        },
        {
          "output_type": "stream",
          "name": "stdout",
          "text": [
            "Date =  20240509  Count =  NO    4831\n",
            "dtype: int64 --------------------------------------------------\n"
          ]
        },
        {
          "output_type": "stream",
          "name": "stderr",
          "text": [
            "/usr/lib/python3.10/html/parser.py:170: XMLParsedAsHTMLWarning: It looks like you're parsing an XML document using an HTML parser. If this really is an HTML document (maybe it's XHTML?), you can ignore or filter this warning. If it's XML, you should know that using an XML parser will be more reliable. To parse this document as XML, make sure you have the lxml package installed, and pass the keyword argument `features=\"xml\"` into the BeautifulSoup constructor.\n",
            "  k = self.parse_starttag(i)\n"
          ]
        },
        {
          "output_type": "stream",
          "name": "stdout",
          "text": [
            "Date =  20240510  Count =  NO    4763\n",
            "dtype: int64 --------------------------------------------------\n"
          ]
        }
      ]
    },
    {
      "cell_type": "code",
      "source": [
        "DisabledCallTaxi['TIME1'] = round((DisabledCallTaxi['TIME1'].dt.seconds / 60),1)\n",
        "DisabledCallTaxi['TIME2'] = round((DisabledCallTaxi['TIME2'].dt.seconds / 60),1)\n",
        "DisabledCallTaxi['TIME3'] = round((DisabledCallTaxi['TIME3'].dt.seconds / 60),1)\n",
        "DisabledCallTaxi\n",
        "#TIME1: 예약 시간에서 배차까지의 시간\n",
        "#TIME2: 배차 후 승객이 탑승하기까지의 시간\n",
        "#TIME3: 탑승시간 - 예정시간 = 대기 시간"
      ],
      "metadata": {
        "colab": {
          "base_uri": "https://localhost:8080/",
          "height": 502
        },
        "id": "3UEM4qcNhQwL",
        "outputId": "b66ecfa1-f738-4b7a-917f-2f8ec68ad90b"
      },
      "execution_count": 3,
      "outputs": [
        {
          "output_type": "error",
          "ename": "KeyError",
          "evalue": "'TIME3'",
          "traceback": [
            "\u001b[0;31m---------------------------------------------------------------------------\u001b[0m",
            "\u001b[0;31mKeyError\u001b[0m                                  Traceback (most recent call last)",
            "\u001b[0;32m/usr/local/lib/python3.10/dist-packages/pandas/core/indexes/base.py\u001b[0m in \u001b[0;36mget_loc\u001b[0;34m(self, key)\u001b[0m\n\u001b[1;32m   3652\u001b[0m         \u001b[0;32mtry\u001b[0m\u001b[0;34m:\u001b[0m\u001b[0;34m\u001b[0m\u001b[0;34m\u001b[0m\u001b[0m\n\u001b[0;32m-> 3653\u001b[0;31m             \u001b[0;32mreturn\u001b[0m \u001b[0mself\u001b[0m\u001b[0;34m.\u001b[0m\u001b[0m_engine\u001b[0m\u001b[0;34m.\u001b[0m\u001b[0mget_loc\u001b[0m\u001b[0;34m(\u001b[0m\u001b[0mcasted_key\u001b[0m\u001b[0;34m)\u001b[0m\u001b[0;34m\u001b[0m\u001b[0;34m\u001b[0m\u001b[0m\n\u001b[0m\u001b[1;32m   3654\u001b[0m         \u001b[0;32mexcept\u001b[0m \u001b[0mKeyError\u001b[0m \u001b[0;32mas\u001b[0m \u001b[0merr\u001b[0m\u001b[0;34m:\u001b[0m\u001b[0;34m\u001b[0m\u001b[0;34m\u001b[0m\u001b[0m\n",
            "\u001b[0;32m/usr/local/lib/python3.10/dist-packages/pandas/_libs/index.pyx\u001b[0m in \u001b[0;36mpandas._libs.index.IndexEngine.get_loc\u001b[0;34m()\u001b[0m\n",
            "\u001b[0;32m/usr/local/lib/python3.10/dist-packages/pandas/_libs/index.pyx\u001b[0m in \u001b[0;36mpandas._libs.index.IndexEngine.get_loc\u001b[0;34m()\u001b[0m\n",
            "\u001b[0;32mpandas/_libs/hashtable_class_helper.pxi\u001b[0m in \u001b[0;36mpandas._libs.hashtable.PyObjectHashTable.get_item\u001b[0;34m()\u001b[0m\n",
            "\u001b[0;32mpandas/_libs/hashtable_class_helper.pxi\u001b[0m in \u001b[0;36mpandas._libs.hashtable.PyObjectHashTable.get_item\u001b[0;34m()\u001b[0m\n",
            "\u001b[0;31mKeyError\u001b[0m: 'TIME3'",
            "\nThe above exception was the direct cause of the following exception:\n",
            "\u001b[0;31mKeyError\u001b[0m                                  Traceback (most recent call last)",
            "\u001b[0;32m<ipython-input-3-8d9db9ebc318>\u001b[0m in \u001b[0;36m<cell line: 3>\u001b[0;34m()\u001b[0m\n\u001b[1;32m      1\u001b[0m \u001b[0mDisabledCallTaxi\u001b[0m\u001b[0;34m[\u001b[0m\u001b[0;34m'TIME1'\u001b[0m\u001b[0;34m]\u001b[0m \u001b[0;34m=\u001b[0m \u001b[0mround\u001b[0m\u001b[0;34m(\u001b[0m\u001b[0;34m(\u001b[0m\u001b[0mDisabledCallTaxi\u001b[0m\u001b[0;34m[\u001b[0m\u001b[0;34m'TIME1'\u001b[0m\u001b[0;34m]\u001b[0m\u001b[0;34m.\u001b[0m\u001b[0mdt\u001b[0m\u001b[0;34m.\u001b[0m\u001b[0mseconds\u001b[0m \u001b[0;34m/\u001b[0m \u001b[0;36m60\u001b[0m\u001b[0;34m)\u001b[0m\u001b[0;34m,\u001b[0m\u001b[0;36m1\u001b[0m\u001b[0;34m)\u001b[0m\u001b[0;34m\u001b[0m\u001b[0;34m\u001b[0m\u001b[0m\n\u001b[1;32m      2\u001b[0m \u001b[0mDisabledCallTaxi\u001b[0m\u001b[0;34m[\u001b[0m\u001b[0;34m'TIME2'\u001b[0m\u001b[0;34m]\u001b[0m \u001b[0;34m=\u001b[0m \u001b[0mround\u001b[0m\u001b[0;34m(\u001b[0m\u001b[0;34m(\u001b[0m\u001b[0mDisabledCallTaxi\u001b[0m\u001b[0;34m[\u001b[0m\u001b[0;34m'TIME2'\u001b[0m\u001b[0;34m]\u001b[0m\u001b[0;34m.\u001b[0m\u001b[0mdt\u001b[0m\u001b[0;34m.\u001b[0m\u001b[0mseconds\u001b[0m \u001b[0;34m/\u001b[0m \u001b[0;36m60\u001b[0m\u001b[0;34m)\u001b[0m\u001b[0;34m,\u001b[0m\u001b[0;36m1\u001b[0m\u001b[0;34m)\u001b[0m\u001b[0;34m\u001b[0m\u001b[0;34m\u001b[0m\u001b[0m\n\u001b[0;32m----> 3\u001b[0;31m \u001b[0mDisabledCallTaxi\u001b[0m\u001b[0;34m[\u001b[0m\u001b[0;34m'TIME3'\u001b[0m\u001b[0;34m]\u001b[0m \u001b[0;34m=\u001b[0m \u001b[0mround\u001b[0m\u001b[0;34m(\u001b[0m\u001b[0;34m(\u001b[0m\u001b[0mDisabledCallTaxi\u001b[0m\u001b[0;34m[\u001b[0m\u001b[0;34m'TIME3'\u001b[0m\u001b[0;34m]\u001b[0m\u001b[0;34m.\u001b[0m\u001b[0mdt\u001b[0m\u001b[0;34m.\u001b[0m\u001b[0mseconds\u001b[0m \u001b[0;34m/\u001b[0m \u001b[0;36m60\u001b[0m\u001b[0;34m)\u001b[0m\u001b[0;34m,\u001b[0m\u001b[0;36m1\u001b[0m\u001b[0;34m)\u001b[0m\u001b[0;34m\u001b[0m\u001b[0;34m\u001b[0m\u001b[0m\n\u001b[0m\u001b[1;32m      4\u001b[0m \u001b[0mDisabledCallTaxi\u001b[0m\u001b[0;34m\u001b[0m\u001b[0;34m\u001b[0m\u001b[0m\n\u001b[1;32m      5\u001b[0m \u001b[0;31m#TIME1: 예약 시간에서 배차까지의 시간\u001b[0m\u001b[0;34m\u001b[0m\u001b[0;34m\u001b[0m\u001b[0m\n",
            "\u001b[0;32m/usr/local/lib/python3.10/dist-packages/pandas/core/frame.py\u001b[0m in \u001b[0;36m__getitem__\u001b[0;34m(self, key)\u001b[0m\n\u001b[1;32m   3759\u001b[0m             \u001b[0;32mif\u001b[0m \u001b[0mself\u001b[0m\u001b[0;34m.\u001b[0m\u001b[0mcolumns\u001b[0m\u001b[0;34m.\u001b[0m\u001b[0mnlevels\u001b[0m \u001b[0;34m>\u001b[0m \u001b[0;36m1\u001b[0m\u001b[0;34m:\u001b[0m\u001b[0;34m\u001b[0m\u001b[0;34m\u001b[0m\u001b[0m\n\u001b[1;32m   3760\u001b[0m                 \u001b[0;32mreturn\u001b[0m \u001b[0mself\u001b[0m\u001b[0;34m.\u001b[0m\u001b[0m_getitem_multilevel\u001b[0m\u001b[0;34m(\u001b[0m\u001b[0mkey\u001b[0m\u001b[0;34m)\u001b[0m\u001b[0;34m\u001b[0m\u001b[0;34m\u001b[0m\u001b[0m\n\u001b[0;32m-> 3761\u001b[0;31m             \u001b[0mindexer\u001b[0m \u001b[0;34m=\u001b[0m \u001b[0mself\u001b[0m\u001b[0;34m.\u001b[0m\u001b[0mcolumns\u001b[0m\u001b[0;34m.\u001b[0m\u001b[0mget_loc\u001b[0m\u001b[0;34m(\u001b[0m\u001b[0mkey\u001b[0m\u001b[0;34m)\u001b[0m\u001b[0;34m\u001b[0m\u001b[0;34m\u001b[0m\u001b[0m\n\u001b[0m\u001b[1;32m   3762\u001b[0m             \u001b[0;32mif\u001b[0m \u001b[0mis_integer\u001b[0m\u001b[0;34m(\u001b[0m\u001b[0mindexer\u001b[0m\u001b[0;34m)\u001b[0m\u001b[0;34m:\u001b[0m\u001b[0;34m\u001b[0m\u001b[0;34m\u001b[0m\u001b[0m\n\u001b[1;32m   3763\u001b[0m                 \u001b[0mindexer\u001b[0m \u001b[0;34m=\u001b[0m \u001b[0;34m[\u001b[0m\u001b[0mindexer\u001b[0m\u001b[0;34m]\u001b[0m\u001b[0;34m\u001b[0m\u001b[0;34m\u001b[0m\u001b[0m\n",
            "\u001b[0;32m/usr/local/lib/python3.10/dist-packages/pandas/core/indexes/base.py\u001b[0m in \u001b[0;36mget_loc\u001b[0;34m(self, key)\u001b[0m\n\u001b[1;32m   3653\u001b[0m             \u001b[0;32mreturn\u001b[0m \u001b[0mself\u001b[0m\u001b[0;34m.\u001b[0m\u001b[0m_engine\u001b[0m\u001b[0;34m.\u001b[0m\u001b[0mget_loc\u001b[0m\u001b[0;34m(\u001b[0m\u001b[0mcasted_key\u001b[0m\u001b[0;34m)\u001b[0m\u001b[0;34m\u001b[0m\u001b[0;34m\u001b[0m\u001b[0m\n\u001b[1;32m   3654\u001b[0m         \u001b[0;32mexcept\u001b[0m \u001b[0mKeyError\u001b[0m \u001b[0;32mas\u001b[0m \u001b[0merr\u001b[0m\u001b[0;34m:\u001b[0m\u001b[0;34m\u001b[0m\u001b[0;34m\u001b[0m\u001b[0m\n\u001b[0;32m-> 3655\u001b[0;31m             \u001b[0;32mraise\u001b[0m \u001b[0mKeyError\u001b[0m\u001b[0;34m(\u001b[0m\u001b[0mkey\u001b[0m\u001b[0;34m)\u001b[0m \u001b[0;32mfrom\u001b[0m \u001b[0merr\u001b[0m\u001b[0;34m\u001b[0m\u001b[0;34m\u001b[0m\u001b[0m\n\u001b[0m\u001b[1;32m   3656\u001b[0m         \u001b[0;32mexcept\u001b[0m \u001b[0mTypeError\u001b[0m\u001b[0;34m:\u001b[0m\u001b[0;34m\u001b[0m\u001b[0;34m\u001b[0m\u001b[0m\n\u001b[1;32m   3657\u001b[0m             \u001b[0;31m# If we have a listlike key, _check_indexing_error will raise\u001b[0m\u001b[0;34m\u001b[0m\u001b[0;34m\u001b[0m\u001b[0m\n",
            "\u001b[0;31mKeyError\u001b[0m: 'TIME3'"
          ]
        }
      ]
    },
    {
      "cell_type": "code",
      "source": [
        "DisabledCallTaxi.head()"
      ],
      "metadata": {
        "colab": {
          "base_uri": "https://localhost:8080/",
          "height": 206
        },
        "id": "BsKB1a3SKdln",
        "outputId": "f08cc706-b82c-4482-942c-23891f3a7b65",
        "collapsed": true
      },
      "execution_count": 13,
      "outputs": [
        {
          "output_type": "execute_result",
          "data": {
            "text/plain": [
              "     NO CARTYPE          RECEIPTIME             SETTIME            RIDETIME  \\\n",
              "0  8366   중형 승합 2024-05-01 00:00:00 2024-05-01 00:05:47 2024-05-01 00:38:37   \n",
              "1  8366   중형 승합 2024-05-01 00:00:00 2024-05-01 00:05:47 2024-05-01 00:38:37   \n",
              "2  9373   중형 승합 2024-05-01 00:06:00 2024-05-01 00:10:48 2024-05-01 00:28:09   \n",
              "3  7843   중형 승합 2024-05-01 00:06:38 2024-05-01 00:49:05 2024-05-01 01:18:12   \n",
              "4  5799   중형 승합 2024-05-01 00:30:11 2024-05-01 00:37:32 2024-05-01 01:08:30   \n",
              "\n",
              "  STARTPOS1    STARTPSO2 ENDPOS1 ENDPOS2  TIME1  TIME2  TIME3  \n",
              "0       종로구  종로1.2.3.4가동     광진구     광장동    5.8   32.8   38.6  \n",
              "1       종로구  종로1.2.3.4가동     광진구     광장동    5.8   32.8   38.6  \n",
              "2       마포구        망원제1동    서대문구  남가좌제2동    4.8   17.4   22.2  \n",
              "3       금천구        시흥제5동     금천구   시흥제2동   42.4   29.1   71.6  \n",
              "4       서초구         반포4동     강남구     수서동    7.4   31.0   38.3  "
            ],
            "text/html": [
              "\n",
              "  <div id=\"df-e19b5983-7073-45ab-ad60-fb4595d28a8c\" class=\"colab-df-container\">\n",
              "    <div>\n",
              "<style scoped>\n",
              "    .dataframe tbody tr th:only-of-type {\n",
              "        vertical-align: middle;\n",
              "    }\n",
              "\n",
              "    .dataframe tbody tr th {\n",
              "        vertical-align: top;\n",
              "    }\n",
              "\n",
              "    .dataframe thead th {\n",
              "        text-align: right;\n",
              "    }\n",
              "</style>\n",
              "<table border=\"1\" class=\"dataframe\">\n",
              "  <thead>\n",
              "    <tr style=\"text-align: right;\">\n",
              "      <th></th>\n",
              "      <th>NO</th>\n",
              "      <th>CARTYPE</th>\n",
              "      <th>RECEIPTIME</th>\n",
              "      <th>SETTIME</th>\n",
              "      <th>RIDETIME</th>\n",
              "      <th>STARTPOS1</th>\n",
              "      <th>STARTPSO2</th>\n",
              "      <th>ENDPOS1</th>\n",
              "      <th>ENDPOS2</th>\n",
              "      <th>TIME1</th>\n",
              "      <th>TIME2</th>\n",
              "      <th>TIME3</th>\n",
              "    </tr>\n",
              "  </thead>\n",
              "  <tbody>\n",
              "    <tr>\n",
              "      <th>0</th>\n",
              "      <td>8366</td>\n",
              "      <td>중형 승합</td>\n",
              "      <td>2024-05-01 00:00:00</td>\n",
              "      <td>2024-05-01 00:05:47</td>\n",
              "      <td>2024-05-01 00:38:37</td>\n",
              "      <td>종로구</td>\n",
              "      <td>종로1.2.3.4가동</td>\n",
              "      <td>광진구</td>\n",
              "      <td>광장동</td>\n",
              "      <td>5.8</td>\n",
              "      <td>32.8</td>\n",
              "      <td>38.6</td>\n",
              "    </tr>\n",
              "    <tr>\n",
              "      <th>1</th>\n",
              "      <td>8366</td>\n",
              "      <td>중형 승합</td>\n",
              "      <td>2024-05-01 00:00:00</td>\n",
              "      <td>2024-05-01 00:05:47</td>\n",
              "      <td>2024-05-01 00:38:37</td>\n",
              "      <td>종로구</td>\n",
              "      <td>종로1.2.3.4가동</td>\n",
              "      <td>광진구</td>\n",
              "      <td>광장동</td>\n",
              "      <td>5.8</td>\n",
              "      <td>32.8</td>\n",
              "      <td>38.6</td>\n",
              "    </tr>\n",
              "    <tr>\n",
              "      <th>2</th>\n",
              "      <td>9373</td>\n",
              "      <td>중형 승합</td>\n",
              "      <td>2024-05-01 00:06:00</td>\n",
              "      <td>2024-05-01 00:10:48</td>\n",
              "      <td>2024-05-01 00:28:09</td>\n",
              "      <td>마포구</td>\n",
              "      <td>망원제1동</td>\n",
              "      <td>서대문구</td>\n",
              "      <td>남가좌제2동</td>\n",
              "      <td>4.8</td>\n",
              "      <td>17.4</td>\n",
              "      <td>22.2</td>\n",
              "    </tr>\n",
              "    <tr>\n",
              "      <th>3</th>\n",
              "      <td>7843</td>\n",
              "      <td>중형 승합</td>\n",
              "      <td>2024-05-01 00:06:38</td>\n",
              "      <td>2024-05-01 00:49:05</td>\n",
              "      <td>2024-05-01 01:18:12</td>\n",
              "      <td>금천구</td>\n",
              "      <td>시흥제5동</td>\n",
              "      <td>금천구</td>\n",
              "      <td>시흥제2동</td>\n",
              "      <td>42.4</td>\n",
              "      <td>29.1</td>\n",
              "      <td>71.6</td>\n",
              "    </tr>\n",
              "    <tr>\n",
              "      <th>4</th>\n",
              "      <td>5799</td>\n",
              "      <td>중형 승합</td>\n",
              "      <td>2024-05-01 00:30:11</td>\n",
              "      <td>2024-05-01 00:37:32</td>\n",
              "      <td>2024-05-01 01:08:30</td>\n",
              "      <td>서초구</td>\n",
              "      <td>반포4동</td>\n",
              "      <td>강남구</td>\n",
              "      <td>수서동</td>\n",
              "      <td>7.4</td>\n",
              "      <td>31.0</td>\n",
              "      <td>38.3</td>\n",
              "    </tr>\n",
              "  </tbody>\n",
              "</table>\n",
              "</div>\n",
              "    <div class=\"colab-df-buttons\">\n",
              "\n",
              "  <div class=\"colab-df-container\">\n",
              "    <button class=\"colab-df-convert\" onclick=\"convertToInteractive('df-e19b5983-7073-45ab-ad60-fb4595d28a8c')\"\n",
              "            title=\"Convert this dataframe to an interactive table.\"\n",
              "            style=\"display:none;\">\n",
              "\n",
              "  <svg xmlns=\"http://www.w3.org/2000/svg\" height=\"24px\" viewBox=\"0 -960 960 960\">\n",
              "    <path d=\"M120-120v-720h720v720H120Zm60-500h600v-160H180v160Zm220 220h160v-160H400v160Zm0 220h160v-160H400v160ZM180-400h160v-160H180v160Zm440 0h160v-160H620v160ZM180-180h160v-160H180v160Zm440 0h160v-160H620v160Z\"/>\n",
              "  </svg>\n",
              "    </button>\n",
              "\n",
              "  <style>\n",
              "    .colab-df-container {\n",
              "      display:flex;\n",
              "      gap: 12px;\n",
              "    }\n",
              "\n",
              "    .colab-df-convert {\n",
              "      background-color: #E8F0FE;\n",
              "      border: none;\n",
              "      border-radius: 50%;\n",
              "      cursor: pointer;\n",
              "      display: none;\n",
              "      fill: #1967D2;\n",
              "      height: 32px;\n",
              "      padding: 0 0 0 0;\n",
              "      width: 32px;\n",
              "    }\n",
              "\n",
              "    .colab-df-convert:hover {\n",
              "      background-color: #E2EBFA;\n",
              "      box-shadow: 0px 1px 2px rgba(60, 64, 67, 0.3), 0px 1px 3px 1px rgba(60, 64, 67, 0.15);\n",
              "      fill: #174EA6;\n",
              "    }\n",
              "\n",
              "    .colab-df-buttons div {\n",
              "      margin-bottom: 4px;\n",
              "    }\n",
              "\n",
              "    [theme=dark] .colab-df-convert {\n",
              "      background-color: #3B4455;\n",
              "      fill: #D2E3FC;\n",
              "    }\n",
              "\n",
              "    [theme=dark] .colab-df-convert:hover {\n",
              "      background-color: #434B5C;\n",
              "      box-shadow: 0px 1px 3px 1px rgba(0, 0, 0, 0.15);\n",
              "      filter: drop-shadow(0px 1px 2px rgba(0, 0, 0, 0.3));\n",
              "      fill: #FFFFFF;\n",
              "    }\n",
              "  </style>\n",
              "\n",
              "    <script>\n",
              "      const buttonEl =\n",
              "        document.querySelector('#df-e19b5983-7073-45ab-ad60-fb4595d28a8c button.colab-df-convert');\n",
              "      buttonEl.style.display =\n",
              "        google.colab.kernel.accessAllowed ? 'block' : 'none';\n",
              "\n",
              "      async function convertToInteractive(key) {\n",
              "        const element = document.querySelector('#df-e19b5983-7073-45ab-ad60-fb4595d28a8c');\n",
              "        const dataTable =\n",
              "          await google.colab.kernel.invokeFunction('convertToInteractive',\n",
              "                                                    [key], {});\n",
              "        if (!dataTable) return;\n",
              "\n",
              "        const docLinkHtml = 'Like what you see? Visit the ' +\n",
              "          '<a target=\"_blank\" href=https://colab.research.google.com/notebooks/data_table.ipynb>data table notebook</a>'\n",
              "          + ' to learn more about interactive tables.';\n",
              "        element.innerHTML = '';\n",
              "        dataTable['output_type'] = 'display_data';\n",
              "        await google.colab.output.renderOutput(dataTable, element);\n",
              "        const docLink = document.createElement('div');\n",
              "        docLink.innerHTML = docLinkHtml;\n",
              "        element.appendChild(docLink);\n",
              "      }\n",
              "    </script>\n",
              "  </div>\n",
              "\n",
              "\n",
              "<div id=\"df-844ddd3e-c21e-4b03-9540-51bec726d73a\">\n",
              "  <button class=\"colab-df-quickchart\" onclick=\"quickchart('df-844ddd3e-c21e-4b03-9540-51bec726d73a')\"\n",
              "            title=\"Suggest charts\"\n",
              "            style=\"display:none;\">\n",
              "\n",
              "<svg xmlns=\"http://www.w3.org/2000/svg\" height=\"24px\"viewBox=\"0 0 24 24\"\n",
              "     width=\"24px\">\n",
              "    <g>\n",
              "        <path d=\"M19 3H5c-1.1 0-2 .9-2 2v14c0 1.1.9 2 2 2h14c1.1 0 2-.9 2-2V5c0-1.1-.9-2-2-2zM9 17H7v-7h2v7zm4 0h-2V7h2v10zm4 0h-2v-4h2v4z\"/>\n",
              "    </g>\n",
              "</svg>\n",
              "  </button>\n",
              "\n",
              "<style>\n",
              "  .colab-df-quickchart {\n",
              "      --bg-color: #E8F0FE;\n",
              "      --fill-color: #1967D2;\n",
              "      --hover-bg-color: #E2EBFA;\n",
              "      --hover-fill-color: #174EA6;\n",
              "      --disabled-fill-color: #AAA;\n",
              "      --disabled-bg-color: #DDD;\n",
              "  }\n",
              "\n",
              "  [theme=dark] .colab-df-quickchart {\n",
              "      --bg-color: #3B4455;\n",
              "      --fill-color: #D2E3FC;\n",
              "      --hover-bg-color: #434B5C;\n",
              "      --hover-fill-color: #FFFFFF;\n",
              "      --disabled-bg-color: #3B4455;\n",
              "      --disabled-fill-color: #666;\n",
              "  }\n",
              "\n",
              "  .colab-df-quickchart {\n",
              "    background-color: var(--bg-color);\n",
              "    border: none;\n",
              "    border-radius: 50%;\n",
              "    cursor: pointer;\n",
              "    display: none;\n",
              "    fill: var(--fill-color);\n",
              "    height: 32px;\n",
              "    padding: 0;\n",
              "    width: 32px;\n",
              "  }\n",
              "\n",
              "  .colab-df-quickchart:hover {\n",
              "    background-color: var(--hover-bg-color);\n",
              "    box-shadow: 0 1px 2px rgba(60, 64, 67, 0.3), 0 1px 3px 1px rgba(60, 64, 67, 0.15);\n",
              "    fill: var(--button-hover-fill-color);\n",
              "  }\n",
              "\n",
              "  .colab-df-quickchart-complete:disabled,\n",
              "  .colab-df-quickchart-complete:disabled:hover {\n",
              "    background-color: var(--disabled-bg-color);\n",
              "    fill: var(--disabled-fill-color);\n",
              "    box-shadow: none;\n",
              "  }\n",
              "\n",
              "  .colab-df-spinner {\n",
              "    border: 2px solid var(--fill-color);\n",
              "    border-color: transparent;\n",
              "    border-bottom-color: var(--fill-color);\n",
              "    animation:\n",
              "      spin 1s steps(1) infinite;\n",
              "  }\n",
              "\n",
              "  @keyframes spin {\n",
              "    0% {\n",
              "      border-color: transparent;\n",
              "      border-bottom-color: var(--fill-color);\n",
              "      border-left-color: var(--fill-color);\n",
              "    }\n",
              "    20% {\n",
              "      border-color: transparent;\n",
              "      border-left-color: var(--fill-color);\n",
              "      border-top-color: var(--fill-color);\n",
              "    }\n",
              "    30% {\n",
              "      border-color: transparent;\n",
              "      border-left-color: var(--fill-color);\n",
              "      border-top-color: var(--fill-color);\n",
              "      border-right-color: var(--fill-color);\n",
              "    }\n",
              "    40% {\n",
              "      border-color: transparent;\n",
              "      border-right-color: var(--fill-color);\n",
              "      border-top-color: var(--fill-color);\n",
              "    }\n",
              "    60% {\n",
              "      border-color: transparent;\n",
              "      border-right-color: var(--fill-color);\n",
              "    }\n",
              "    80% {\n",
              "      border-color: transparent;\n",
              "      border-right-color: var(--fill-color);\n",
              "      border-bottom-color: var(--fill-color);\n",
              "    }\n",
              "    90% {\n",
              "      border-color: transparent;\n",
              "      border-bottom-color: var(--fill-color);\n",
              "    }\n",
              "  }\n",
              "</style>\n",
              "\n",
              "  <script>\n",
              "    async function quickchart(key) {\n",
              "      const quickchartButtonEl =\n",
              "        document.querySelector('#' + key + ' button');\n",
              "      quickchartButtonEl.disabled = true;  // To prevent multiple clicks.\n",
              "      quickchartButtonEl.classList.add('colab-df-spinner');\n",
              "      try {\n",
              "        const charts = await google.colab.kernel.invokeFunction(\n",
              "            'suggestCharts', [key], {});\n",
              "      } catch (error) {\n",
              "        console.error('Error during call to suggestCharts:', error);\n",
              "      }\n",
              "      quickchartButtonEl.classList.remove('colab-df-spinner');\n",
              "      quickchartButtonEl.classList.add('colab-df-quickchart-complete');\n",
              "    }\n",
              "    (() => {\n",
              "      let quickchartButtonEl =\n",
              "        document.querySelector('#df-844ddd3e-c21e-4b03-9540-51bec726d73a button');\n",
              "      quickchartButtonEl.style.display =\n",
              "        google.colab.kernel.accessAllowed ? 'block' : 'none';\n",
              "    })();\n",
              "  </script>\n",
              "</div>\n",
              "\n",
              "    </div>\n",
              "  </div>\n"
            ],
            "application/vnd.google.colaboratory.intrinsic+json": {
              "type": "dataframe",
              "variable_name": "DisabledCallTaxi",
              "summary": "{\n  \"name\": \"DisabledCallTaxi\",\n  \"rows\": 35881,\n  \"fields\": [\n    {\n      \"column\": \"NO\",\n      \"properties\": {\n        \"dtype\": \"category\",\n        \"num_unique_values\": 752,\n        \"samples\": [\n          \"3682\",\n          \"8296\",\n          \"3657\"\n        ],\n        \"semantic_type\": \"\",\n        \"description\": \"\"\n      }\n    },\n    {\n      \"column\": \"CARTYPE\",\n      \"properties\": {\n        \"dtype\": \"category\",\n        \"num_unique_values\": 3,\n        \"samples\": [\n          \"\\uc911\\ud615 \\uc2b9\\ud569\",\n          \"\\uc911\\ud615 \\uc2b9\\uc6a9\",\n          \"\\ub300\\ud615 \\uc2b9\\uc6a9\"\n        ],\n        \"semantic_type\": \"\",\n        \"description\": \"\"\n      }\n    },\n    {\n      \"column\": \"RECEIPTIME\",\n      \"properties\": {\n        \"dtype\": \"date\",\n        \"min\": \"2024-05-01 00:00:00\",\n        \"max\": \"2024-05-10 23:59:00\",\n        \"num_unique_values\": 23651,\n        \"samples\": [\n          \"2024-05-06 18:42:21\",\n          \"2024-05-02 07:44:05\",\n          \"2024-05-03 09:29:00\"\n        ],\n        \"semantic_type\": \"\",\n        \"description\": \"\"\n      }\n    },\n    {\n      \"column\": \"SETTIME\",\n      \"properties\": {\n        \"dtype\": \"date\",\n        \"min\": \"2024-05-01 00:05:47\",\n        \"max\": \"2024-05-11 00:56:35\",\n        \"num_unique_values\": 33605,\n        \"samples\": [\n          \"2024-05-07 10:53:25\",\n          \"2024-05-09 16:20:15\",\n          \"2024-05-03 13:00:24\"\n        ],\n        \"semantic_type\": \"\",\n        \"description\": \"\"\n      }\n    },\n    {\n      \"column\": \"RIDETIME\",\n      \"properties\": {\n        \"dtype\": \"date\",\n        \"min\": \"2024-05-01 00:28:09\",\n        \"max\": \"2024-05-11 01:29:30\",\n        \"num_unique_values\": 33855,\n        \"samples\": [\n          \"2024-05-09 19:14:44\",\n          \"2024-05-10 09:31:08\",\n          \"2024-05-09 07:44:40\"\n        ],\n        \"semantic_type\": \"\",\n        \"description\": \"\"\n      }\n    },\n    {\n      \"column\": \"STARTPOS1\",\n      \"properties\": {\n        \"dtype\": \"category\",\n        \"num_unique_values\": 32,\n        \"samples\": [\n          \"\\uad6c\\ub9ac\\uc2dc\",\n          \"\\ub3d9\\uc791\\uad6c\",\n          \"\\uc6a9\\uc0b0\\uad6c\"\n        ],\n        \"semantic_type\": \"\",\n        \"description\": \"\"\n      }\n    },\n    {\n      \"column\": \"STARTPSO2\",\n      \"properties\": {\n        \"dtype\": \"category\",\n        \"num_unique_values\": 442,\n        \"samples\": [\n          \"\\uccad\\ub7c9\\ub9ac\\ub3d9\",\n          \"\\uc11d\\ucd0c\\ub3d9\",\n          \"\\ubc1c\\uc0b0\\uc81c1\\ub3d9\"\n        ],\n        \"semantic_type\": \"\",\n        \"description\": \"\"\n      }\n    },\n    {\n      \"column\": \"ENDPOS1\",\n      \"properties\": {\n        \"dtype\": \"category\",\n        \"num_unique_values\": 73,\n        \"samples\": [\n          \"\\uad00\\uc545\\uad6c\",\n          \"\\uc218\\uc6d0\\uc2dc\\uc601\\ud1b5\\uad6c\",\n          \"\\ubd80\\ucc9c\\uc2dc\\uc6d0\\ubbf8\\uad6c\"\n        ],\n        \"semantic_type\": \"\",\n        \"description\": \"\"\n      }\n    },\n    {\n      \"column\": \"ENDPOS2\",\n      \"properties\": {\n        \"dtype\": \"category\",\n        \"num_unique_values\": 739,\n        \"samples\": [\n          \"\\uc885\\ub85c1.2.3.4\\uac00\\ub3d9\",\n          \"\\uc548\\uc5918\\ub3d9\",\n          \"\\uc2e0\\uc124\\ub3d9\"\n        ],\n        \"semantic_type\": \"\",\n        \"description\": \"\"\n      }\n    },\n    {\n      \"column\": \"TIME1\",\n      \"properties\": {\n        \"dtype\": \"number\",\n        \"std\": 30.185365521081472,\n        \"min\": 0.0,\n        \"max\": 205.7,\n        \"num_unique_values\": 1383,\n        \"samples\": [\n          74.3,\n          14.7,\n          3.8\n        ],\n        \"semantic_type\": \"\",\n        \"description\": \"\"\n      }\n    },\n    {\n      \"column\": \"TIME2\",\n      \"properties\": {\n        \"dtype\": \"number\",\n        \"std\": 8.244185305988996,\n        \"min\": 0.0,\n        \"max\": 129.2,\n        \"num_unique_values\": 579,\n        \"samples\": [\n          20.9,\n          1.6,\n          51.3\n        ],\n        \"semantic_type\": \"\",\n        \"description\": \"\"\n      }\n    },\n    {\n      \"column\": \"TIME3\",\n      \"properties\": {\n        \"dtype\": \"number\",\n        \"std\": 32.44679503352141,\n        \"min\": 0.4,\n        \"max\": 237.2,\n        \"num_unique_values\": 1610,\n        \"samples\": [\n          23.8,\n          90.2,\n          83.5\n        ],\n        \"semantic_type\": \"\",\n        \"description\": \"\"\n      }\n    }\n  ]\n}"
            }
          },
          "metadata": {},
          "execution_count": 13
        }
      ]
    },
    {
      "cell_type": "code",
      "source": [
        "DisabledCallTaxi.info()"
      ],
      "metadata": {
        "colab": {
          "base_uri": "https://localhost:8080/"
        },
        "collapsed": true,
        "id": "BhC7QmE3fdl_",
        "outputId": "2b723062-f078-4f3f-f639-76440fe46b87"
      },
      "execution_count": 14,
      "outputs": [
        {
          "output_type": "stream",
          "name": "stdout",
          "text": [
            "<class 'pandas.core.frame.DataFrame'>\n",
            "Index: 35881 entries, 0 to 4762\n",
            "Data columns (total 12 columns):\n",
            " #   Column      Non-Null Count  Dtype         \n",
            "---  ------      --------------  -----         \n",
            " 0   NO          35881 non-null  object        \n",
            " 1   CARTYPE     35881 non-null  object        \n",
            " 2   RECEIPTIME  35881 non-null  datetime64[ns]\n",
            " 3   SETTIME     35881 non-null  datetime64[ns]\n",
            " 4   RIDETIME    35881 non-null  datetime64[ns]\n",
            " 5   STARTPOS1   35881 non-null  object        \n",
            " 6   STARTPSO2   35881 non-null  object        \n",
            " 7   ENDPOS1     35881 non-null  object        \n",
            " 8   ENDPOS2     35881 non-null  object        \n",
            " 9   TIME1       35881 non-null  float64       \n",
            " 10  TIME2       35881 non-null  float64       \n",
            " 11  TIME3       35881 non-null  float64       \n",
            "dtypes: datetime64[ns](3), float64(3), object(6)\n",
            "memory usage: 3.6+ MB\n"
          ]
        }
      ]
    },
    {
      "cell_type": "code",
      "source": [
        "#TIME1 Box plot\n",
        "DisabledCallTaxi['TIME1'].plot(kind='box')"
      ],
      "metadata": {
        "colab": {
          "base_uri": "https://localhost:8080/",
          "height": 448
        },
        "id": "gcEnxANJMpi5",
        "outputId": "58b6f29b-1283-43e7-e047-ccb87921f97d"
      },
      "execution_count": null,
      "outputs": [
        {
          "output_type": "execute_result",
          "data": {
            "text/plain": [
              "<Axes: >"
            ]
          },
          "metadata": {},
          "execution_count": 18
        },
        {
          "output_type": "display_data",
          "data": {
            "text/plain": [
              "<Figure size 640x480 with 1 Axes>"
            ],
            "image/png": "[encoded data removed]"
          },
          "metadata": {}
        }
      ]
    },
    {
      "cell_type": "code",
      "source": [
        "#TIME3 Box plot\n",
        "DisabledCallTaxi['TIME3'].plot(kind='box')"
      ],
      "metadata": {
        "colab": {
          "base_uri": "https://localhost:8080/",
          "height": 448
        },
        "id": "ELA_9OESNPzV",
        "outputId": "d4c0eb2e-6930-4919-e55f-a80034ac7fdb"
      },
      "execution_count": null,
      "outputs": [
        {
          "output_type": "execute_result",
          "data": {
            "text/plain": [
              "<Axes: >"
            ]
          },
          "metadata": {},
          "execution_count": 19
        },
        {
          "output_type": "display_data",
          "data": {
            "text/plain": [
              "<Figure size 640x480 with 1 Axes>"
            ],
            "image/png": "[encoded data removed]"
          },
          "metadata": {}
        }
      ]
    },
    {
      "cell_type": "code",
      "source": [
        "DisabledCallTaxi['CARTYPE'].unique()"
      ],
      "metadata": {
        "colab": {
          "base_uri": "https://localhost:8080/"
        },
        "collapsed": true,
        "id": "GwvHbvyDfgoA",
        "outputId": "71c59503-5cd3-44c7-dae6-62213c911c67"
      },
      "execution_count": null,
      "outputs": [
        {
          "output_type": "execute_result",
          "data": {
            "text/plain": [
              "array(['중형 승합', '중형 승용', '대형 승용'], dtype=object)"
            ]
          },
          "metadata": {},
          "execution_count": 6
        }
      ]
    },
    {
      "cell_type": "code",
      "source": [
        "#TIME1 최댓값(최솟값과 비교용)\n",
        "pos_max  = DisabledCallTaxi.groupby('STARTPOS1')['TIME1'].max()\n",
        "print(pos_max)"
      ],
      "metadata": {
        "colab": {
          "base_uri": "https://localhost:8080/"
        },
        "id": "0vh5CUY6FlyK",
        "outputId": "4cf59232-7736-4692-a0a8-ec5d1b18628d",
        "collapsed": true
      },
      "execution_count": null,
      "outputs": [
        {
          "output_type": "stream",
          "name": "stdout",
          "text": [
            "STARTPOS1\n",
            "강남구       143.4\n",
            "강동구       130.1\n",
            "강북구       144.7\n",
            "강서구       176.9\n",
            "관악구       188.4\n",
            "광명시        48.9\n",
            "광진구       160.6\n",
            "구로구       163.3\n",
            "구리시        41.0\n",
            "금천구       155.3\n",
            "김포시        44.8\n",
            "노원구       152.0\n",
            "도봉구       142.2\n",
            "동대문구      156.0\n",
            "동작구       143.7\n",
            "마포구       152.6\n",
            "서대문구      205.7\n",
            "서초구       165.4\n",
            "성남시분당구      0.1\n",
            "성남시수정구      0.7\n",
            "성동구       139.3\n",
            "성북구       154.9\n",
            "송파구       153.9\n",
            "양주시         1.0\n",
            "양천구       148.4\n",
            "영등포구      163.5\n",
            "용산구       159.4\n",
            "은평구       171.2\n",
            "종로구       154.1\n",
            "중구        143.9\n",
            "중랑구       166.0\n",
            "하남시        63.9\n",
            "Name: TIME1, dtype: float64\n"
          ]
        }
      ]
    },
    {
      "cell_type": "code",
      "source": [
        "DisabledCallTaxi['TIME1'].max()"
      ],
      "metadata": {
        "colab": {
          "base_uri": "https://localhost:8080/"
        },
        "id": "OLKyx7k2JDD7",
        "outputId": "cb913b0c-bb9d-4bdf-8c12-7eab65c80fa4"
      },
      "execution_count": null,
      "outputs": [
        {
          "output_type": "execute_result",
          "data": {
            "text/plain": [
              "205.7"
            ]
          },
          "metadata": {},
          "execution_count": 10
        }
      ]
    },
    {
      "cell_type": "code",
      "source": [
        "DisabledCallTaxi['TIME3'].max()"
      ],
      "metadata": {
        "colab": {
          "base_uri": "https://localhost:8080/"
        },
        "id": "fXdvGDFaJNyl",
        "outputId": "207b3af5-2490-4265-d51f-cb84bf3f16a5"
      },
      "execution_count": null,
      "outputs": [
        {
          "output_type": "execute_result",
          "data": {
            "text/plain": [
              "237.2"
            ]
          },
          "metadata": {},
          "execution_count": 11
        }
      ]
    },
    {
      "cell_type": "code",
      "source": [
        "DisabledCallTaxi['TIME3'].mean()"
      ],
      "metadata": {
        "colab": {
          "base_uri": "https://localhost:8080/"
        },
        "id": "Cn8Sph58JP-A",
        "outputId": "3bd4eec1-930a-4936-b710-06f681781daf"
      },
      "execution_count": null,
      "outputs": [
        {
          "output_type": "execute_result",
          "data": {
            "text/plain": [
              "51.15069535408713"
            ]
          },
          "metadata": {},
          "execution_count": 12
        }
      ]
    },
    {
      "cell_type": "code",
      "source": [
        "DisabledCallTaxi['TIME3'].std()"
      ],
      "metadata": {
        "colab": {
          "base_uri": "https://localhost:8080/"
        },
        "id": "5ljzaDJ2JTi7",
        "outputId": "2947e80f-a3e6-47a0-92a0-913cf23bcc5a"
      },
      "execution_count": null,
      "outputs": [
        {
          "output_type": "execute_result",
          "data": {
            "text/plain": [
              "32.44679503352141"
            ]
          },
          "metadata": {},
          "execution_count": 13
        }
      ]
    },
    {
      "cell_type": "code",
      "source": [
        "DisabledCallTaxi['TIME3'].median()"
      ],
      "metadata": {
        "colab": {
          "base_uri": "https://localhost:8080/"
        },
        "id": "CypRNSl1QZYc",
        "outputId": "9bdbfd74-b321-448b-f5e5-ae744023f8ac"
      },
      "execution_count": null,
      "outputs": [
        {
          "output_type": "execute_result",
          "data": {
            "text/plain": [
              "40.3"
            ]
          },
          "metadata": {},
          "execution_count": 31
        }
      ]
    },
    {
      "cell_type": "code",
      "source": [
        "DisabledCallTaxi['TIME3'].min()"
      ],
      "metadata": {
        "id": "47kVrBOCYm0P",
        "outputId": "7a3df370-d5ab-4ab8-a0ce-9e86696f2b34",
        "colab": {
          "base_uri": "https://localhost:8080/"
        }
      },
      "execution_count": null,
      "outputs": [
        {
          "output_type": "execute_result",
          "data": {
            "text/plain": [
              "0.4"
            ]
          },
          "metadata": {},
          "execution_count": 35
        }
      ]
    },
    {
      "cell_type": "code",
      "source": [
        "#TIME1 최솟값(최댓값과 비교용)\n",
        "pos_min  = DisabledCallTaxi.groupby('STARTPOS1')['TIME1'].min()\n",
        "print(pos_min)"
      ],
      "metadata": {
        "colab": {
          "base_uri": "https://localhost:8080/"
        },
        "id": "IPJNrUbjFo-D",
        "outputId": "4378e817-ed2d-4f97-996f-3149f57706a9",
        "collapsed": true
      },
      "execution_count": null,
      "outputs": [
        {
          "output_type": "stream",
          "name": "stdout",
          "text": [
            "STARTPOS1\n",
            "강남구        0.1\n",
            "강동구        0.2\n",
            "강북구        0.2\n",
            "강서구        0.4\n",
            "관악구        0.5\n",
            "광명시        5.2\n",
            "광진구        0.2\n",
            "구로구        0.5\n",
            "구리시       41.0\n",
            "금천구        0.7\n",
            "김포시        2.0\n",
            "노원구        0.0\n",
            "도봉구        0.4\n",
            "동대문구       0.2\n",
            "동작구        0.6\n",
            "마포구        0.1\n",
            "서대문구       0.0\n",
            "서초구        0.3\n",
            "성남시분당구     0.1\n",
            "성남시수정구     0.7\n",
            "성동구        0.3\n",
            "성북구        0.0\n",
            "송파구        0.2\n",
            "양주시        1.0\n",
            "양천구        0.3\n",
            "영등포구       0.3\n",
            "용산구        0.2\n",
            "은평구        0.0\n",
            "종로구        0.4\n",
            "중구         0.6\n",
            "중랑구        0.2\n",
            "하남시        3.8\n",
            "Name: TIME1, dtype: float64\n"
          ]
        }
      ]
    },
    {
      "cell_type": "code",
      "source": [
        "#각 구 당 이용횟수를 나타낸 dataframe\n",
        "topSTARTPOS1 = DisabledCallTaxi['STARTPOS1'].value_counts().to_frame()\n",
        "print(topSTARTPOS1)"
      ],
      "metadata": {
        "colab": {
          "base_uri": "https://localhost:8080/"
        },
        "id": "P5JIAeCJb0kV",
        "outputId": "75930b52-e338-40bb-bf35-a2fe9c9eade1",
        "collapsed": true
      },
      "execution_count": null,
      "outputs": [
        {
          "output_type": "stream",
          "name": "stdout",
          "text": [
            "           count\n",
            "STARTPOS1       \n",
            "노원구         3859\n",
            "강서구         2437\n",
            "서대문구        2051\n",
            "은평구         2045\n",
            "마포구         2027\n",
            "강동구         1971\n",
            "송파구         1577\n",
            "강남구         1488\n",
            "영등포구        1426\n",
            "동대문구        1415\n",
            "중랑구         1381\n",
            "양천구         1333\n",
            "구로구         1305\n",
            "관악구         1277\n",
            "성북구         1231\n",
            "도봉구         1217\n",
            "강북구         1152\n",
            "종로구         1119\n",
            "광진구         1014\n",
            "동작구          973\n",
            "서초구          969\n",
            "성동구          815\n",
            "용산구          652\n",
            "금천구          603\n",
            "중구           524\n",
            "광명시            7\n",
            "하남시            5\n",
            "김포시            3\n",
            "성남시분당구         2\n",
            "구리시            1\n",
            "양주시            1\n",
            "성남시수정구         1\n"
          ]
        }
      ]
    },
    {
      "cell_type": "code",
      "source": [
        "#서울 외엔 표본이 너무 적어 바로 위에서 서울시만 포함시킨 dataframe\n",
        "topSTARTPOS1_slec = topSTARTPOS1.iloc[:25]\n",
        "print(topSTARTPOS1_slec)"
      ],
      "metadata": {
        "colab": {
          "base_uri": "https://localhost:8080/"
        },
        "id": "JAudRWJcb-MW",
        "outputId": "96ebd3e4-bf51-48c3-f820-c2c6f308375a",
        "collapsed": true
      },
      "execution_count": null,
      "outputs": [
        {
          "output_type": "stream",
          "name": "stdout",
          "text": [
            "           count\n",
            "STARTPOS1       \n",
            "노원구         3859\n",
            "강서구         2437\n",
            "서대문구        2051\n",
            "은평구         2045\n",
            "마포구         2027\n",
            "강동구         1971\n",
            "송파구         1577\n",
            "강남구         1488\n",
            "영등포구        1426\n",
            "동대문구        1415\n",
            "중랑구         1381\n",
            "양천구         1333\n",
            "구로구         1305\n",
            "관악구         1277\n",
            "성북구         1231\n",
            "도봉구         1217\n",
            "강북구         1152\n",
            "종로구         1119\n",
            "광진구         1014\n",
            "동작구          973\n",
            "서초구          969\n",
            "성동구          815\n",
            "용산구          652\n",
            "금천구          603\n",
            "중구           524\n"
          ]
        }
      ]
    },
    {
      "cell_type": "code",
      "source": [
        "#5/1 ~ 5/10 동안 운행된 차량의 개수(2-1 운행차량 개수 증가 제안 시 사용 가능할지도?)\n",
        "NO = DisabledCallTaxi['NO'].value_counts()\n",
        "print(len(NO))"
      ],
      "metadata": {
        "colab": {
          "base_uri": "https://localhost:8080/"
        },
        "id": "d4xwwCIYkdns",
        "outputId": "7db3d396-bf45-49d7-d1c8-18297b4fbeb8"
      },
      "execution_count": null,
      "outputs": [
        {
          "output_type": "stream",
          "name": "stdout",
          "text": [
            "752\n"
          ]
        }
      ]
    },
    {
      "cell_type": "code",
      "source": [
        "#그래프 그릴 떄 필요한 모듈 import\n",
        "import matplotlib.font_manager as fm\n",
        "import matplotlib.pyplot as plt\n",
        "import matplotlib as mpl\n",
        "fm.fontManager.ttflist"
      ],
      "metadata": {
        "colab": {
          "base_uri": "https://localhost:8080/"
        },
        "collapsed": true,
        "id": "gvcxgrgycvAB",
        "outputId": "1f63567c-ae67-4a3b-f1ee-f7a55fb8355e"
      },
      "execution_count": 8,
      "outputs": [
        {
          "output_type": "execute_result",
          "data": {
            "text/plain": [
              "[FontEntry(fname='/usr/local/lib/python3.10/dist-packages/matplotlib/mpl-data/fonts/ttf/STIXSizFourSymReg.ttf', name='STIXSizeFourSym', style='normal', variant='normal', weight=400, stretch='normal', size='scalable'),\n",
              " FontEntry(fname='/usr/local/lib/python3.10/dist-packages/matplotlib/mpl-data/fonts/ttf/cmr10.ttf', name='cmr10', style='normal', variant='normal', weight=400, stretch='normal', size='scalable'),\n",
              " FontEntry(fname='/usr/local/lib/python3.10/dist-packages/matplotlib/mpl-data/fonts/ttf/cmex10.ttf', name='cmex10', style='normal', variant='normal', weight=400, stretch='normal', size='scalable'),\n",
              " FontEntry(fname='/usr/local/lib/python3.10/dist-packages/matplotlib/mpl-data/fonts/ttf/DejaVuSans-Oblique.ttf', name='DejaVu Sans', style='oblique', variant='normal', weight=400, stretch='normal', size='scalable'),\n",
              " FontEntry(fname='/usr/local/lib/python3.10/dist-packages/matplotlib/mpl-data/fonts/ttf/DejaVuSans-BoldOblique.ttf', name='DejaVu Sans', style='oblique', variant='normal', weight=700, stretch='normal', size='scalable'),\n",
              " FontEntry(fname='/usr/local/lib/python3.10/dist-packages/matplotlib/mpl-data/fonts/ttf/STIXNonUniBolIta.ttf', name='STIXNonUnicode', style='italic', variant='normal', weight=700, stretch='normal', size='scalable'),\n",
              " FontEntry(fname='/usr/local/lib/python3.10/dist-packages/matplotlib/mpl-data/fonts/ttf/STIXNonUniIta.ttf', name='STIXNonUnicode', style='italic', variant='normal', weight=400, stretch='normal', size='scalable'),\n",
              " FontEntry(fname='/usr/local/lib/python3.10/dist-packages/matplotlib/mpl-data/fonts/ttf/STIXSizOneSymReg.ttf', name='STIXSizeOneSym', style='normal', variant='normal', weight=400, stretch='normal', size='scalable'),\n",
              " FontEntry(fname='/usr/local/lib/python3.10/dist-packages/matplotlib/mpl-data/fonts/ttf/DejaVuSerifDisplay.ttf', name='DejaVu Serif Display', style='normal', variant='normal', weight=400, stretch='normal', size='scalable'),\n",
              " FontEntry(fname='/usr/local/lib/python3.10/dist-packages/matplotlib/mpl-data/fonts/ttf/STIXNonUni.ttf', name='STIXNonUnicode', style='normal', variant='normal', weight=400, stretch='normal', size='scalable'),\n",
              " FontEntry(fname='/usr/local/lib/python3.10/dist-packages/matplotlib/mpl-data/fonts/ttf/STIXGeneralBolIta.ttf', name='STIXGeneral', style='italic', variant='normal', weight=700, stretch='normal', size='scalable'),\n",
              " FontEntry(fname='/usr/local/lib/python3.10/dist-packages/matplotlib/mpl-data/fonts/ttf/DejaVuSerif-BoldItalic.ttf', name='DejaVu Serif', style='italic', variant='normal', weight=700, stretch='normal', size='scalable'),\n",
              " FontEntry(fname='/usr/local/lib/python3.10/dist-packages/matplotlib/mpl-data/fonts/ttf/STIXGeneralBol.ttf', name='STIXGeneral', style='normal', variant='normal', weight=700, stretch='normal', size='scalable'),\n",
              " FontEntry(fname='/usr/local/lib/python3.10/dist-packages/matplotlib/mpl-data/fonts/ttf/DejaVuSerif-Bold.ttf', name='DejaVu Serif', style='normal', variant='normal', weight=700, stretch='normal', size='scalable'),\n",
              " FontEntry(fname='/usr/local/lib/python3.10/dist-packages/matplotlib/mpl-data/fonts/ttf/STIXSizTwoSymBol.ttf', name='STIXSizeTwoSym', style='normal', variant='normal', weight=700, stretch='normal', size='scalable'),\n",
              " FontEntry(fname='/usr/local/lib/python3.10/dist-packages/matplotlib/mpl-data/fonts/ttf/STIXGeneral.ttf', name='STIXGeneral', style='normal', variant='normal', weight=400, stretch='normal', size='scalable'),\n",
              " FontEntry(fname='/usr/local/lib/python3.10/dist-packages/matplotlib/mpl-data/fonts/ttf/DejaVuSansMono.ttf', name='DejaVu Sans Mono', style='normal', variant='normal', weight=400, stretch='normal', size='scalable'),\n",
              " FontEntry(fname='/usr/local/lib/python3.10/dist-packages/matplotlib/mpl-data/fonts/ttf/cmmi10.ttf', name='cmmi10', style='normal', variant='normal', weight=400, stretch='normal', size='scalable'),\n",
              " FontEntry(fname='/usr/local/lib/python3.10/dist-packages/matplotlib/mpl-data/fonts/ttf/cmtt10.ttf', name='cmtt10', style='normal', variant='normal', weight=400, stretch='normal', size='scalable'),\n",
              " FontEntry(fname='/usr/local/lib/python3.10/dist-packages/matplotlib/mpl-data/fonts/ttf/STIXSizTwoSymReg.ttf', name='STIXSizeTwoSym', style='normal', variant='normal', weight=400, stretch='normal', size='scalable'),\n",
              " FontEntry(fname='/usr/local/lib/python3.10/dist-packages/matplotlib/mpl-data/fonts/ttf/cmsy10.ttf', name='cmsy10', style='normal', variant='normal', weight=400, stretch='normal', size='scalable'),\n",
              " FontEntry(fname='/usr/local/lib/python3.10/dist-packages/matplotlib/mpl-data/fonts/ttf/DejaVuSansMono-Bold.ttf', name='DejaVu Sans Mono', style='normal', variant='normal', weight=700, stretch='normal', size='scalable'),\n",
              " FontEntry(fname='/usr/local/lib/python3.10/dist-packages/matplotlib/mpl-data/fonts/ttf/STIXSizThreeSymBol.ttf', name='STIXSizeThreeSym', style='normal', variant='normal', weight=700, stretch='normal', size='scalable'),\n",
              " FontEntry(fname='/usr/local/lib/python3.10/dist-packages/matplotlib/mpl-data/fonts/ttf/STIXSizFourSymBol.ttf', name='STIXSizeFourSym', style='normal', variant='normal', weight=700, stretch='normal', size='scalable'),\n",
              " FontEntry(fname='/usr/local/lib/python3.10/dist-packages/matplotlib/mpl-data/fonts/ttf/DejaVuSans.ttf', name='DejaVu Sans', style='normal', variant='normal', weight=400, stretch='normal', size='scalable'),\n",
              " FontEntry(fname='/usr/local/lib/python3.10/dist-packages/matplotlib/mpl-data/fonts/ttf/cmb10.ttf', name='cmb10', style='normal', variant='normal', weight=400, stretch='normal', size='scalable'),\n",
              " FontEntry(fname='/usr/local/lib/python3.10/dist-packages/matplotlib/mpl-data/fonts/ttf/STIXNonUniBol.ttf', name='STIXNonUnicode', style='normal', variant='normal', weight=700, stretch='normal', size='scalable'),\n",
              " FontEntry(fname='/usr/local/lib/python3.10/dist-packages/matplotlib/mpl-data/fonts/ttf/DejaVuSerif-Italic.ttf', name='DejaVu Serif', style='italic', variant='normal', weight=400, stretch='normal', size='scalable'),\n",
              " FontEntry(fname='/usr/local/lib/python3.10/dist-packages/matplotlib/mpl-data/fonts/ttf/STIXGeneralItalic.ttf', name='STIXGeneral', style='italic', variant='normal', weight=400, stretch='normal', size='scalable'),\n",
              " FontEntry(fname='/usr/local/lib/python3.10/dist-packages/matplotlib/mpl-data/fonts/ttf/DejaVuSansMono-BoldOblique.ttf', name='DejaVu Sans Mono', style='oblique', variant='normal', weight=700, stretch='normal', size='scalable'),\n",
              " FontEntry(fname='/usr/local/lib/python3.10/dist-packages/matplotlib/mpl-data/fonts/ttf/STIXSizFiveSymReg.ttf', name='STIXSizeFiveSym', style='normal', variant='normal', weight=400, stretch='normal', size='scalable'),\n",
              " FontEntry(fname='/usr/local/lib/python3.10/dist-packages/matplotlib/mpl-data/fonts/ttf/DejaVuSansMono-Oblique.ttf', name='DejaVu Sans Mono', style='oblique', variant='normal', weight=400, stretch='normal', size='scalable'),\n",
              " FontEntry(fname='/usr/local/lib/python3.10/dist-packages/matplotlib/mpl-data/fonts/ttf/DejaVuSans-Bold.ttf', name='DejaVu Sans', style='normal', variant='normal', weight=700, stretch='normal', size='scalable'),\n",
              " FontEntry(fname='/usr/local/lib/python3.10/dist-packages/matplotlib/mpl-data/fonts/ttf/cmss10.ttf', name='cmss10', style='normal', variant='normal', weight=400, stretch='normal', size='scalable'),\n",
              " FontEntry(fname='/usr/local/lib/python3.10/dist-packages/matplotlib/mpl-data/fonts/ttf/DejaVuSansDisplay.ttf', name='DejaVu Sans Display', style='normal', variant='normal', weight=400, stretch='normal', size='scalable'),\n",
              " FontEntry(fname='/usr/local/lib/python3.10/dist-packages/matplotlib/mpl-data/fonts/ttf/DejaVuSerif.ttf', name='DejaVu Serif', style='normal', variant='normal', weight=400, stretch='normal', size='scalable'),\n",
              " FontEntry(fname='/usr/local/lib/python3.10/dist-packages/matplotlib/mpl-data/fonts/ttf/STIXSizThreeSymReg.ttf', name='STIXSizeThreeSym', style='normal', variant='normal', weight=400, stretch='normal', size='scalable'),\n",
              " FontEntry(fname='/usr/local/lib/python3.10/dist-packages/matplotlib/mpl-data/fonts/ttf/STIXSizOneSymBol.ttf', name='STIXSizeOneSym', style='normal', variant='normal', weight=700, stretch='normal', size='scalable'),\n",
              " FontEntry(fname='/usr/share/fonts/truetype/nanum/NanumGothicBold.ttf', name='NanumGothic', style='normal', variant='normal', weight=600, stretch='normal', size='scalable'),\n",
              " FontEntry(fname='/usr/share/fonts/truetype/nanum/NanumBarunGothicBold.ttf', name='NanumBarunGothic', style='normal', variant='normal', weight=600, stretch='normal', size='scalable'),\n",
              " FontEntry(fname='/usr/share/fonts/truetype/liberation/LiberationSans-Regular.ttf', name='Liberation Sans', style='normal', variant='normal', weight=400, stretch='normal', size='scalable'),\n",
              " FontEntry(fname='/usr/share/fonts/truetype/nanum/NanumMyeongjoBold.ttf', name='NanumMyeongjo', style='normal', variant='normal', weight=600, stretch='normal', size='scalable'),\n",
              " FontEntry(fname='/usr/share/fonts/truetype/liberation/LiberationSansNarrow-Regular.ttf', name='Liberation Sans Narrow', style='normal', variant='normal', weight=400, stretch='condensed', size='scalable'),\n",
              " FontEntry(fname='/usr/share/fonts/truetype/liberation/LiberationMono-Italic.ttf', name='Liberation Mono', style='italic', variant='normal', weight=400, stretch='normal', size='scalable'),\n",
              " FontEntry(fname='/usr/share/fonts/truetype/liberation/LiberationMono-Regular.ttf', name='Liberation Mono', style='normal', variant='normal', weight=400, stretch='normal', size='scalable'),\n",
              " FontEntry(fname='/usr/share/fonts/truetype/liberation/LiberationSerif-Regular.ttf', name='Liberation Serif', style='normal', variant='normal', weight=400, stretch='normal', size='scalable'),\n",
              " FontEntry(fname='/usr/share/fonts/truetype/nanum/NanumGothic.ttf', name='NanumGothic', style='normal', variant='normal', weight=400, stretch='normal', size='scalable'),\n",
              " FontEntry(fname='/usr/share/fonts/truetype/liberation/LiberationSans-BoldItalic.ttf', name='Liberation Sans', style='italic', variant='normal', weight=700, stretch='normal', size='scalable'),\n",
              " FontEntry(fname='/usr/share/fonts/truetype/liberation/LiberationSans-Italic.ttf', name='Liberation Sans', style='italic', variant='normal', weight=400, stretch='normal', size='scalable'),\n",
              " FontEntry(fname='/usr/share/fonts/truetype/nanum/NanumBarunGothic.ttf', name='NanumBarunGothic', style='normal', variant='normal', weight=400, stretch='normal', size='scalable'),\n",
              " FontEntry(fname='/usr/share/fonts/truetype/liberation/LiberationSansNarrow-Italic.ttf', name='Liberation Sans Narrow', style='italic', variant='normal', weight=400, stretch='condensed', size='scalable'),\n",
              " FontEntry(fname='/usr/share/fonts/truetype/liberation/LiberationMono-Bold.ttf', name='Liberation Mono', style='normal', variant='normal', weight=700, stretch='normal', size='scalable'),\n",
              " FontEntry(fname='/usr/share/fonts/truetype/nanum/NanumMyeongjo.ttf', name='NanumMyeongjo', style='normal', variant='normal', weight=400, stretch='normal', size='scalable'),\n",
              " FontEntry(fname='/usr/share/fonts/truetype/nanum/NanumSquareR.ttf', name='NanumSquare', style='normal', variant='normal', weight=400, stretch='normal', size='scalable'),\n",
              " FontEntry(fname='/usr/share/fonts/truetype/liberation/LiberationSerif-BoldItalic.ttf', name='Liberation Serif', style='italic', variant='normal', weight=700, stretch='normal', size='scalable'),\n",
              " FontEntry(fname='/usr/share/fonts/truetype/nanum/NanumSquareRoundR.ttf', name='NanumSquareRound', style='normal', variant='normal', weight=400, stretch='normal', size='scalable'),\n",
              " FontEntry(fname='/usr/share/fonts/truetype/humor-sans/Humor-Sans.ttf', name='Humor Sans', style='normal', variant='normal', weight=400, stretch='normal', size='scalable'),\n",
              " FontEntry(fname='/usr/share/fonts/truetype/liberation/LiberationSansNarrow-BoldItalic.ttf', name='Liberation Sans Narrow', style='italic', variant='normal', weight=700, stretch='condensed', size='scalable'),\n",
              " FontEntry(fname='/usr/share/fonts/truetype/liberation/LiberationSans-Bold.ttf', name='Liberation Sans', style='normal', variant='normal', weight=700, stretch='normal', size='scalable'),\n",
              " FontEntry(fname='/usr/share/fonts/truetype/nanum/NanumSquareB.ttf', name='NanumSquare', style='normal', variant='normal', weight=700, stretch='normal', size='scalable'),\n",
              " FontEntry(fname='/usr/share/fonts/truetype/nanum/NanumGothicCodingBold.ttf', name='NanumGothicCoding', style='normal', variant='normal', weight=700, stretch='normal', size='scalable'),\n",
              " FontEntry(fname='/usr/share/fonts/truetype/nanum/NanumSquareRoundB.ttf', name='NanumSquareRound', style='normal', variant='normal', weight=700, stretch='normal', size='scalable'),\n",
              " FontEntry(fname='/usr/share/fonts/truetype/nanum/NanumGothicCoding.ttf', name='NanumGothicCoding', style='normal', variant='normal', weight=400, stretch='normal', size='scalable'),\n",
              " FontEntry(fname='/usr/share/fonts/truetype/liberation/LiberationSerif-Italic.ttf', name='Liberation Serif', style='italic', variant='normal', weight=400, stretch='normal', size='scalable'),\n",
              " FontEntry(fname='/usr/share/fonts/truetype/liberation/LiberationSerif-Bold.ttf', name='Liberation Serif', style='normal', variant='normal', weight=700, stretch='normal', size='scalable'),\n",
              " FontEntry(fname='/usr/share/fonts/truetype/liberation/LiberationMono-BoldItalic.ttf', name='Liberation Mono', style='italic', variant='normal', weight=700, stretch='normal', size='scalable'),\n",
              " FontEntry(fname='/usr/share/fonts/truetype/liberation/LiberationSansNarrow-Bold.ttf', name='Liberation Sans Narrow', style='normal', variant='normal', weight=700, stretch='condensed', size='scalable')]"
            ]
          },
          "metadata": {},
          "execution_count": 8
        }
      ]
    },
    {
      "cell_type": "code",
      "source": [
        "#나눔고딕체를 사용하기 위해 설치\n",
        "!sudo apt-get install -y fonts-nanum\n",
        "!sudo fc-cache -fv\n",
        "!rm ~/.cache/matplotlib -rf"
      ],
      "metadata": {
        "colab": {
          "base_uri": "https://localhost:8080/"
        },
        "collapsed": true,
        "id": "ELBGKlkTYw4W",
        "outputId": "fc22f053-0436-435b-aad9-e93dd2012090"
      },
      "execution_count": 1,
      "outputs": [
        {
          "output_type": "stream",
          "name": "stdout",
          "text": [
            "Reading package lists... Done\n",
            "Building dependency tree... Done\n",
            "Reading state information... Done\n",
            "The following NEW packages will be installed:\n",
            "  fonts-nanum\n",
            "0 upgraded, 1 newly installed, 0 to remove and 45 not upgraded.\n",
            "Need to get 10.3 MB of archives.\n",
            "After this operation, 34.1 MB of additional disk space will be used.\n",
            "Get:1 http://archive.ubuntu.com/ubuntu jammy/universe amd64 fonts-nanum all 20200506-1 [10.3 MB]\n",
            "Fetched 10.3 MB in 3s (4,051 kB/s)\n",
            "debconf: unable to initialize frontend: Dialog\n",
            "debconf: (No usable dialog-like program is installed, so the dialog based frontend cannot be used. at /usr/share/perl5/Debconf/FrontEnd/Dialog.pm line 78, <> line 1.)\n",
            "debconf: falling back to frontend: Readline\n",
            "debconf: unable to initialize frontend: Readline\n",
            "debconf: (This frontend requires a controlling tty.)\n",
            "debconf: falling back to frontend: Teletype\n",
            "dpkg-preconfigure: unable to re-open stdin: \n",
            "Selecting previously unselected package fonts-nanum.\n",
            "(Reading database ... 121918 files and directories currently installed.)\n",
            "Preparing to unpack .../fonts-nanum_20200506-1_all.deb ...\n",
            "Unpacking fonts-nanum (20200506-1) ...\n",
            "Setting up fonts-nanum (20200506-1) ...\n",
            "Processing triggers for fontconfig (2.13.1-4.2ubuntu5) ...\n",
            "/usr/share/fonts: caching, new cache contents: 0 fonts, 1 dirs\n",
            "/usr/share/fonts/truetype: caching, new cache contents: 0 fonts, 3 dirs\n",
            "/usr/share/fonts/truetype/humor-sans: caching, new cache contents: 1 fonts, 0 dirs\n",
            "/usr/share/fonts/truetype/liberation: caching, new cache contents: 16 fonts, 0 dirs\n",
            "/usr/share/fonts/truetype/nanum: caching, new cache contents: 12 fonts, 0 dirs\n",
            "/usr/local/share/fonts: caching, new cache contents: 0 fonts, 0 dirs\n",
            "/root/.local/share/fonts: skipping, no such directory\n",
            "/root/.fonts: skipping, no such directory\n",
            "/usr/share/fonts/truetype: skipping, looped directory detected\n",
            "/usr/share/fonts/truetype/humor-sans: skipping, looped directory detected\n",
            "/usr/share/fonts/truetype/liberation: skipping, looped directory detected\n",
            "/usr/share/fonts/truetype/nanum: skipping, looped directory detected\n",
            "/var/cache/fontconfig: cleaning cache directory\n",
            "/root/.cache/fontconfig: not cleaning non-existent cache directory\n",
            "/root/.fontconfig: not cleaning non-existent cache directory\n",
            "fc-cache: succeeded\n"
          ]
        }
      ]
    },
    {
      "cell_type": "code",
      "source": [
        "#글씨체, 크기 설정과 수평 막대 그래프 그리는 함수\n",
        "plt.rcParams[\"font.family\"]= \"NanumGothic\"\n",
        "plt.rcParams[\"font.size\"]= 7\n",
        "def barh_graph(Data, title, x_label, y_label, color = 'skyblue', rotation = 0):\n",
        "  plt.figure(figsize=(12, 8))\n",
        "  Data.plot(kind = 'barh', color= color)\n",
        "  plt.title(title)\n",
        "  plt.xlabel(x_label)\n",
        "  plt.xticks(rotation=rotation)\n",
        "  plt.ylabel(y_label)\n",
        "  plt.gca().invert_yaxis()\n",
        "  plt.tight_layout()\n",
        "  plt.show()"
      ],
      "metadata": {
        "id": "-vuJUCPiitCw"
      },
      "execution_count": null,
      "outputs": []
    },
    {
      "cell_type": "code",
      "source": [
        "#topSTARTPOS1 그래프\n",
        "barh_graph(topSTARTPOS1, '행정구역 당 장애인콜택시 이용횟수', '이용횟수', '행정구역')"
      ],
      "metadata": {
        "colab": {
          "base_uri": "https://localhost:8080/",
          "height": 514
        },
        "collapsed": true,
        "id": "DoxzSZqhcPuL",
        "outputId": "f5433735-89c9-4292-8202-8004c4c2222b"
      },
      "execution_count": null,
      "outputs": [
        {
          "output_type": "display_data",
          "data": {
            "text/plain": [
              "<Figure size 1200x800 with 0 Axes>"
            ]
          },
          "metadata": {}
        },
        {
          "output_type": "display_data",
          "data": {
            "text/plain": [
              "<Figure size 640x480 with 1 Axes>"
            ],
            "image/png": "[encoded data removed]"
          },
          "metadata": {}
        }
      ]
    },
    {
      "cell_type": "code",
      "source": [
        "#topSTARTPOS1 그래프(서울시만 포함)\n",
        "barh_graph(topSTARTPOS1_slec, '행정구역 당 장애인콜택시 이용횟수', '이용횟수', '행정구역')"
      ],
      "metadata": {
        "colab": {
          "base_uri": "https://localhost:8080/",
          "height": 514
        },
        "id": "spHebZVWsyBv",
        "outputId": "7834c275-7ff9-4af5-8b08-49f68228a457"
      },
      "execution_count": null,
      "outputs": [
        {
          "output_type": "display_data",
          "data": {
            "text/plain": [
              "<Figure size 1200x800 with 0 Axes>"
            ]
          },
          "metadata": {}
        },
        {
          "output_type": "display_data",
          "data": {
            "text/plain": [
              "<Figure size 640x480 with 1 Axes>"
            ],
            "image/png": "[encoded data removed]"
          },
          "metadata": {}
        }
      ]
    },
    {
      "cell_type": "code",
      "source": [
        "#TIME1 평균 그래프. 필요 시 아래 셀과 함께 사용\n",
        "#pos_mean = DisabledCallTaxi.groupby('STARTPOS1')['TIME1'].mean().sort_values(ascending=False)\n",
        "# print(pos_mean)"
      ],
      "metadata": {
        "collapsed": true,
        "id": "zbLakEMTfmvq"
      },
      "execution_count": null,
      "outputs": []
    },
    {
      "cell_type": "code",
      "source": [
        "#barh_graph(pos_mean, '행정구역 당 평균 장애인콜택시 대기시간', '행정구역', '대기시간(분)')"
      ],
      "metadata": {
        "id": "l5G2V4ISzbiv"
      },
      "execution_count": null,
      "outputs": []
    },
    {
      "cell_type": "code",
      "source": [
        "#TIME1(서울만 포함) 평균 그래프. 필요 시 아래 셀과 함께 사용\n",
        "pos_mean_slec = DisabledCallTaxi.groupby('STARTPOS1')['TIME1'].mean().sort_values(ascending=False)\n",
        "pos_mean_slec = pos_mean_slec.drop(['광명시', '하남시', '김포시', '성남시분당구', '구리시', '양주시', '성남시수정구'])\n",
        "\n",
        "print(pos_mean_slec)"
      ],
      "metadata": {
        "collapsed": true,
        "id": "F7l4n5ogx39x",
        "colab": {
          "base_uri": "https://localhost:8080/"
        },
        "outputId": "5d885a01-06e5-42cd-9d73-a4ca596c198c"
      },
      "execution_count": null,
      "outputs": [
        {
          "output_type": "stream",
          "name": "stdout",
          "text": [
            "STARTPOS1\n",
            "서초구     39.143034\n",
            "금천구     38.815091\n",
            "서대문구    37.459044\n",
            "관악구     36.984886\n",
            "용산구     36.624233\n",
            "은평구     36.421076\n",
            "구로구     35.915172\n",
            "성동구     35.198282\n",
            "강남구     33.602487\n",
            "영등포구    33.253436\n",
            "동작구     33.129599\n",
            "마포구     32.862802\n",
            "성북구     32.677335\n",
            "강서구     32.178006\n",
            "종로구     31.628239\n",
            "송파구     31.281103\n",
            "광진구     30.956903\n",
            "중구      30.931679\n",
            "강동구     30.469711\n",
            "강북구     29.499045\n",
            "동대문구    29.014417\n",
            "양천구     28.732708\n",
            "도봉구     27.980937\n",
            "노원구     27.379554\n",
            "중랑구     27.197031\n",
            "Name: TIME1, dtype: float64\n"
          ]
        }
      ]
    },
    {
      "cell_type": "code",
      "source": [
        "barh_graph(pos_mean_slec, '행정구역 당 평균 장애인콜택시 대기시간', '행정구역', '대기시간(분)')"
      ],
      "metadata": {
        "id": "6jywhXWV3d7o",
        "colab": {
          "base_uri": "https://localhost:8080/",
          "height": 487
        },
        "collapsed": true,
        "outputId": "a93893d3-b98c-47b2-9c2c-c9dafde4d2d6"
      },
      "execution_count": null,
      "outputs": [
        {
          "output_type": "display_data",
          "data": {
            "text/plain": [
              "<Figure size 1200x800 with 1 Axes>"
            ],
            "image/png": "[encoded data removed]"
          },
          "metadata": {}
        }
      ]
    },
    {
      "cell_type": "code",
      "source": [
        "#TIME1 중간값 그래프. 필요시 아래 셀과 함께 사용\n",
        "pos_median = DisabledCallTaxi.groupby('STARTPOS1')['TIME1'].median().sort_values(ascending = False)\n",
        "print(pos_median)"
      ],
      "metadata": {
        "colab": {
          "base_uri": "https://localhost:8080/"
        },
        "collapsed": true,
        "id": "CM4L0_eZgn4j",
        "outputId": "32360304-4891-4ae6-8ee9-d0bee564e764"
      },
      "execution_count": null,
      "outputs": [
        {
          "output_type": "stream",
          "name": "stdout",
          "text": [
            "STARTPOS1\n",
            "하남시       46.30\n",
            "구리시       41.00\n",
            "서초구       31.40\n",
            "용산구       28.60\n",
            "은평구       28.20\n",
            "광명시       27.60\n",
            "성동구       27.10\n",
            "관악구       27.00\n",
            "서대문구      25.30\n",
            "강남구       24.45\n",
            "금천구       24.20\n",
            "마포구       23.50\n",
            "성북구       23.20\n",
            "강동구       23.20\n",
            "영등포구      22.70\n",
            "송파구       22.40\n",
            "구로구       22.10\n",
            "동작구       21.80\n",
            "종로구       21.10\n",
            "광진구       20.60\n",
            "강서구       20.50\n",
            "중구        20.10\n",
            "동대문구      17.50\n",
            "도봉구       17.10\n",
            "강북구       16.85\n",
            "양천구       16.10\n",
            "노원구       15.80\n",
            "중랑구       14.80\n",
            "김포시        8.60\n",
            "양주시        1.00\n",
            "성남시수정구     0.70\n",
            "성남시분당구     0.10\n",
            "Name: TIME1, dtype: float64\n"
          ]
        }
      ]
    },
    {
      "cell_type": "code",
      "source": [
        "barh_graph(pos_median, '행정구역 당 장애인콜택시 대기시간 중간값', '대기시간(분)', '행정구역', 'lightgreen')"
      ],
      "metadata": {
        "colab": {
          "base_uri": "https://localhost:8080/"
        },
        "collapsed": true,
        "id": "Hu93dOeY3iho",
        "outputId": "ab72ef30-120e-4be3-f4a4-66d028ec2bda"
      },
      "execution_count": null,
      "outputs": [
        {
          "output_type": "display_data",
          "data": {
            "text/plain": [
              "<Figure size 1200x800 with 1 Axes>"
            ],
            "image/png": "[encoded data removed]"
          },
          "metadata": {}
        }
      ]
    },
    {
      "cell_type": "code",
      "source": [
        "#TIME1 중간값 그래프(서울만 포함). 필요시 아래 셀과 함께 사용\n",
        "pos_median = DisabledCallTaxi.groupby('STARTPOS1')['TIME1'].median().sort_values(ascending=False)\n",
        "pos_median_slec = pos_median.drop(['광명시', '하남시', '김포시', '성남시분당구', '구리시', '양주시', '성남시수정구'])\n",
        "print(pos_median_slec)"
      ],
      "metadata": {
        "colab": {
          "base_uri": "https://localhost:8080/"
        },
        "id": "0p4Uh17hw08l",
        "outputId": "6e222942-dfce-41ed-a6d4-a0c29c41d704",
        "collapsed": true
      },
      "execution_count": null,
      "outputs": [
        {
          "output_type": "stream",
          "name": "stdout",
          "text": [
            "STARTPOS1\n",
            "서초구     31.40\n",
            "용산구     28.60\n",
            "은평구     28.20\n",
            "성동구     27.10\n",
            "관악구     27.00\n",
            "서대문구    25.30\n",
            "강남구     24.45\n",
            "금천구     24.20\n",
            "마포구     23.50\n",
            "성북구     23.20\n",
            "강동구     23.20\n",
            "영등포구    22.70\n",
            "송파구     22.40\n",
            "구로구     22.10\n",
            "동작구     21.80\n",
            "종로구     21.10\n",
            "광진구     20.60\n",
            "강서구     20.50\n",
            "중구      20.10\n",
            "동대문구    17.50\n",
            "도봉구     17.10\n",
            "강북구     16.85\n",
            "양천구     16.10\n",
            "노원구     15.80\n",
            "중랑구     14.80\n",
            "Name: TIME1, dtype: float64\n"
          ]
        }
      ]
    },
    {
      "cell_type": "code",
      "source": [
        "barh_graph(pos_median_slec, '행정구역 당 장애인콜택시 대기시간 중간값', '대기시간(분)', '행정구역', 'lightgreen')"
      ],
      "metadata": {
        "colab": {
          "base_uri": "https://localhost:8080/",
          "height": 437
        },
        "id": "LJGvYLes3lfe",
        "outputId": "fe0a887d-0de4-457f-86bd-fa6cb6414ea3"
      },
      "execution_count": null,
      "outputs": [
        {
          "output_type": "display_data",
          "data": {
            "text/plain": [
              "<Figure size 1200x800 with 1 Axes>"
            ],
            "image/png": "[encoded data removed]"
          },
          "metadata": {}
        }
      ]
    },
    {
      "cell_type": "code",
      "source": [
        "#중간값 역순정렬, 필요시 아래 셀과 함꼐 사용\n",
        "pos_median_reverse = DisabledCallTaxi.groupby('STARTPOS1')['TIME1'].median().sort_values(ascending=True)\n",
        "print(pos_median_reverse)"
      ],
      "metadata": {
        "colab": {
          "base_uri": "https://localhost:8080/"
        },
        "collapsed": true,
        "id": "uOKgX8mrLoqt",
        "outputId": "987ef010-cf45-4309-d21d-f38632f6d3f9"
      },
      "execution_count": null,
      "outputs": [
        {
          "output_type": "stream",
          "name": "stdout",
          "text": [
            "STARTPOS1\n",
            "성남시분당구     0.10\n",
            "성남시수정구     0.70\n",
            "양주시        1.00\n",
            "김포시        8.60\n",
            "중랑구       14.80\n",
            "노원구       15.80\n",
            "양천구       16.10\n",
            "강북구       16.85\n",
            "도봉구       17.10\n",
            "동대문구      17.50\n",
            "중구        20.10\n",
            "강서구       20.50\n",
            "광진구       20.60\n",
            "종로구       21.10\n",
            "동작구       21.80\n",
            "구로구       22.10\n",
            "송파구       22.40\n",
            "영등포구      22.70\n",
            "성북구       23.20\n",
            "강동구       23.20\n",
            "마포구       23.50\n",
            "금천구       24.20\n",
            "강남구       24.45\n",
            "서대문구      25.30\n",
            "관악구       27.00\n",
            "성동구       27.10\n",
            "광명시       27.60\n",
            "은평구       28.20\n",
            "용산구       28.60\n",
            "서초구       31.40\n",
            "구리시       41.00\n",
            "하남시       46.30\n",
            "Name: TIME1, dtype: float64\n"
          ]
        }
      ]
    },
    {
      "cell_type": "code",
      "source": [
        "barh_graph(pos_median_reverse, '행정구역 당 장애인콜택시 대기시간 중간값', '대기시간(분)', '행정구역', 'lightgreen')"
      ],
      "metadata": {
        "colab": {
          "base_uri": "https://localhost:8080/",
          "height": 816
        },
        "collapsed": true,
        "id": "Zdrtqi2OPGW7",
        "outputId": "253671c0-2c86-4cea-dfff-7558abf17109"
      },
      "execution_count": null,
      "outputs": [
        {
          "output_type": "display_data",
          "data": {
            "text/plain": [
              "<Figure size 1200x800 with 1 Axes>"
            ],
            "image/png": "[encoded data removed]"
          },
          "metadata": {}
        }
      ]
    },
    {
      "cell_type": "code",
      "source": [
        "#행정구역 당 심한(1~3급) 장애인 수. 장애인콜택시를 이용할 수 있는 기준이 보행상 장애가 있는 1~3 급 장애인이기에 심한 장애(기존 1~3급)를 가진 사람 수만 빼서 이용.\n",
        "#https://www.sisul.or.kr/open_content/calltaxi/introduce/receipt.jsp 참고\n",
        "file_path = '/content/장애인+현황(등급별_동별)_20240527184129.xlsx'\n",
        "excel_data = pd.ExcelFile(file_path)\n",
        "\n",
        "\n",
        "data_df = pd.read_excel(file_path, sheet_name='데이터')\n",
        "\n",
        "# 데이터만 남기고 열 이름 만들기\n",
        "data_df_cleaned = data_df.drop([0, 1, 2])\n",
        "data_df_cleaned.columns = ['Region1', 'Region2', 'Total', 'Male', 'Female', 'Severe', 'Severe_Male', 'Severe_Female', 'Non_Severe', 'Non_Severe_Male', 'Non_Severe_Female']\n",
        "\n",
        "# index 초기화\n",
        "data_df_cleaned.reset_index(drop=True, inplace=True)\n",
        "\n",
        "#필요한 데이터만 뽑아서 그래프 그리기\n",
        "data_df_cleaned = data_df_cleaned.dropna(subset=['Region2'])\n",
        "data_df_cleaned = data_df_cleaned[data_df_cleaned['Region2'] != '소계']\n",
        "data_df_sorted = data_df_cleaned.sort_values(by='Severe', ascending=False)\n",
        "severe = data_df_sorted[['Region2', 'Severe']].set_index('Region2')\n",
        "barh_graph(severe, '행정구역 당 심한(1~3급) 장애인 수', '장애인 수', '행정구역', 'orange')"
      ],
      "metadata": {
        "colab": {
          "base_uri": "https://localhost:8080/",
          "height": 563
        },
        "id": "hqGTOa4KesKp",
        "outputId": "7742f571-aa58-4705-e051-7bd94df0b7ad"
      },
      "execution_count": null,
      "outputs": [
        {
          "output_type": "stream",
          "name": "stderr",
          "text": [
            "/usr/local/lib/python3.10/dist-packages/openpyxl/styles/stylesheet.py:226: UserWarning: Workbook contains no default style, apply openpyxl's default\n",
            "  warn(\"Workbook contains no default style, apply openpyxl's default\")\n"
          ]
        },
        {
          "output_type": "display_data",
          "data": {
            "text/plain": [
              "<Figure size 1200x800 with 0 Axes>"
            ]
          },
          "metadata": {}
        },
        {
          "output_type": "display_data",
          "data": {
            "text/plain": [
              "<Figure size 640x480 with 1 Axes>"
            ],
            "image/png": "[encoded data removed]"
          },
          "metadata": {}
        }
      ]
    },
    {
      "cell_type": "code",
      "source": [
        "severe.min()"
      ],
      "metadata": {
        "colab": {
          "base_uri": "https://localhost:8080/"
        },
        "id": "GJmfiLBHqaxE",
        "outputId": "503cf863-9d6c-4ff5-b922-22c29662d017"
      },
      "execution_count": null,
      "outputs": [
        {
          "output_type": "execute_result",
          "data": {
            "text/plain": [
              "Severe    1827\n",
              "dtype: object"
            ]
          },
          "metadata": {},
          "execution_count": 100
        }
      ]
    },
    {
      "cell_type": "code",
      "source": [
        "#행정구역을 기준으로 join\n",
        "df_join = topSTARTPOS1_slec.join(severe)\n",
        "df_join.head()"
      ],
      "metadata": {
        "id": "F__3oE3mjosh"
      },
      "execution_count": null,
      "outputs": []
    },
    {
      "cell_type": "code",
      "source": [
        "x = np.arange(len(df_join['Severe']))\n",
        "y_1 = df_join['Severe']\n",
        "y_2 = df_join['count']\n",
        "\n",
        "# 넓이 지정\n",
        "width = 0.35\n",
        "\n",
        "# subplots 생성\n",
        "fig, axes = plt.subplots()\n",
        "\n",
        "# 넓이 설정\n",
        "axes.bar(x - width/2, y_1, width, align='center', alpha=0.5)\n",
        "axes.bar(x + width/2, y_2, width, align='center', alpha=0.8)\n",
        "\n",
        "# xtick 설정\n",
        "plt.xticks(x)\n",
        "\n",
        "plt.show()"
      ],
      "metadata": {
        "colab": {
          "base_uri": "https://localhost:8080/",
          "height": 434
        },
        "collapsed": true,
        "id": "bWGC2jUkxQjl",
        "outputId": "fe150a40-6a07-4c9e-a435-1fe0324fe7b7"
      },
      "execution_count": null,
      "outputs": [
        {
          "output_type": "display_data",
          "data": {
            "text/plain": [
              "<Figure size 640x480 with 1 Axes>"
            ],
            "image/png": "[encoded data removed]"
          },
          "metadata": {}
        }
      ]
    },
    {
      "cell_type": "code",
      "source": [
        "x_label = ['강서구', '노원구', '은평구', '송파구', '중랑구', '강동구', '관악구', '강남구', '구로구', '강북구',\n",
        "       '양천구', '성북구', '도봉구', '동대문구', '동작구', '마포구', '영등포구', '서대문구', '광진구', '금천구',\n",
        "       '서초구', '성동구', '용산구', '종로구', '중구']\n",
        "x = np.arange(len(df_join['Severe']))\n",
        "y_1 = df_join['Severe']\n",
        "y_2 = df_join['count']\n",
        "\n",
        "# 넓이 지정\n",
        "width = 0.4\n",
        "\n",
        "# subplots 생성\n",
        "fig, axes = plt.subplots()\n",
        "\n",
        "# 넓이 설정\n",
        "axes.barh(x - width/2, y_1, width, align='center', alpha=0.5)\n",
        "axes.barh(x + width/2, y_2, width, align='center', alpha=0.8)\n",
        "\n",
        "# xtick 설정\n",
        "plt.yticks(x)\n",
        "axes.set_yticklabels(x_label)\n",
        "\n",
        "plt.legend(['중증 장애인 수', '장애인콜택수 이용건수'])\n",
        "\n",
        "plt.show()"
      ],
      "metadata": {
        "colab": {
          "base_uri": "https://localhost:8080/",
          "height": 425
        },
        "id": "yxWMhx-Iy9AV",
        "outputId": "d02387a3-6c43-4527-a14f-ad5c2cafd3b7"
      },
      "execution_count": null,
      "outputs": [
        {
          "output_type": "display_data",
          "data": {
            "text/plain": [
              "<Figure size 640x480 with 1 Axes>"
            ],
            "image/png": "[encoded data removed]"
          },
          "metadata": {}
        }
      ]
    },
    {
      "cell_type": "code",
      "source": [
        "df_join.head()"
      ],
      "metadata": {
        "colab": {
          "base_uri": "https://localhost:8080/",
          "height": 237
        },
        "id": "JH9R1gnoE7A5",
        "outputId": "94e88706-c420-4fb0-9415-0076e95a8741",
        "collapsed": true
      },
      "execution_count": null,
      "outputs": [
        {
          "output_type": "execute_result",
          "data": {
            "text/plain": [
              "           count Severe\n",
              "STARTPOS1              \n",
              "노원구         3859  11132\n",
              "강서구         2437  11290\n",
              "서대문구        2051   4248\n",
              "은평구         2045   7937\n",
              "마포구         2027   4724"
            ],
            "text/html": [
              "\n",
              "  <div id=\"df-f4b17579-b1f3-47d5-a69e-1c79c1f66d4c\" class=\"colab-df-container\">\n",
              "    <div>\n",
              "<style scoped>\n",
              "    .dataframe tbody tr th:only-of-type {\n",
              "        vertical-align: middle;\n",
              "    }\n",
              "\n",
              "    .dataframe tbody tr th {\n",
              "        vertical-align: top;\n",
              "    }\n",
              "\n",
              "    .dataframe thead th {\n",
              "        text-align: right;\n",
              "    }\n",
              "</style>\n",
              "<table border=\"1\" class=\"dataframe\">\n",
              "  <thead>\n",
              "    <tr style=\"text-align: right;\">\n",
              "      <th></th>\n",
              "      <th>count</th>\n",
              "      <th>Severe</th>\n",
              "    </tr>\n",
              "    <tr>\n",
              "      <th>STARTPOS1</th>\n",
              "      <th></th>\n",
              "      <th></th>\n",
              "    </tr>\n",
              "  </thead>\n",
              "  <tbody>\n",
              "    <tr>\n",
              "      <th>노원구</th>\n",
              "      <td>3859</td>\n",
              "      <td>11132</td>\n",
              "    </tr>\n",
              "    <tr>\n",
              "      <th>강서구</th>\n",
              "      <td>2437</td>\n",
              "      <td>11290</td>\n",
              "    </tr>\n",
              "    <tr>\n",
              "      <th>서대문구</th>\n",
              "      <td>2051</td>\n",
              "      <td>4248</td>\n",
              "    </tr>\n",
              "    <tr>\n",
              "      <th>은평구</th>\n",
              "      <td>2045</td>\n",
              "      <td>7937</td>\n",
              "    </tr>\n",
              "    <tr>\n",
              "      <th>마포구</th>\n",
              "      <td>2027</td>\n",
              "      <td>4724</td>\n",
              "    </tr>\n",
              "  </tbody>\n",
              "</table>\n",
              "</div>\n",
              "    <div class=\"colab-df-buttons\">\n",
              "\n",
              "  <div class=\"colab-df-container\">\n",
              "    <button class=\"colab-df-convert\" onclick=\"convertToInteractive('df-f4b17579-b1f3-47d5-a69e-1c79c1f66d4c')\"\n",
              "            title=\"Convert this dataframe to an interactive table.\"\n",
              "            style=\"display:none;\">\n",
              "\n",
              "  <svg xmlns=\"http://www.w3.org/2000/svg\" height=\"24px\" viewBox=\"0 -960 960 960\">\n",
              "    <path d=\"M120-120v-720h720v720H120Zm60-500h600v-160H180v160Zm220 220h160v-160H400v160Zm0 220h160v-160H400v160ZM180-400h160v-160H180v160Zm440 0h160v-160H620v160ZM180-180h160v-160H180v160Zm440 0h160v-160H620v160Z\"/>\n",
              "  </svg>\n",
              "    </button>\n",
              "\n",
              "  <style>\n",
              "    .colab-df-container {\n",
              "      display:flex;\n",
              "      gap: 12px;\n",
              "    }\n",
              "\n",
              "    .colab-df-convert {\n",
              "      background-color: #E8F0FE;\n",
              "      border: none;\n",
              "      border-radius: 50%;\n",
              "      cursor: pointer;\n",
              "      display: none;\n",
              "      fill: #1967D2;\n",
              "      height: 32px;\n",
              "      padding: 0 0 0 0;\n",
              "      width: 32px;\n",
              "    }\n",
              "\n",
              "    .colab-df-convert:hover {\n",
              "      background-color: #E2EBFA;\n",
              "      box-shadow: 0px 1px 2px rgba(60, 64, 67, 0.3), 0px 1px 3px 1px rgba(60, 64, 67, 0.15);\n",
              "      fill: #174EA6;\n",
              "    }\n",
              "\n",
              "    .colab-df-buttons div {\n",
              "      margin-bottom: 4px;\n",
              "    }\n",
              "\n",
              "    [theme=dark] .colab-df-convert {\n",
              "      background-color: #3B4455;\n",
              "      fill: #D2E3FC;\n",
              "    }\n",
              "\n",
              "    [theme=dark] .colab-df-convert:hover {\n",
              "      background-color: #434B5C;\n",
              "      box-shadow: 0px 1px 3px 1px rgba(0, 0, 0, 0.15);\n",
              "      filter: drop-shadow(0px 1px 2px rgba(0, 0, 0, 0.3));\n",
              "      fill: #FFFFFF;\n",
              "    }\n",
              "  </style>\n",
              "\n",
              "    <script>\n",
              "      const buttonEl =\n",
              "        document.querySelector('#df-f4b17579-b1f3-47d5-a69e-1c79c1f66d4c button.colab-df-convert');\n",
              "      buttonEl.style.display =\n",
              "        google.colab.kernel.accessAllowed ? 'block' : 'none';\n",
              "\n",
              "      async function convertToInteractive(key) {\n",
              "        const element = document.querySelector('#df-f4b17579-b1f3-47d5-a69e-1c79c1f66d4c');\n",
              "        const dataTable =\n",
              "          await google.colab.kernel.invokeFunction('convertToInteractive',\n",
              "                                                    [key], {});\n",
              "        if (!dataTable) return;\n",
              "\n",
              "        const docLinkHtml = 'Like what you see? Visit the ' +\n",
              "          '<a target=\"_blank\" href=https://colab.research.google.com/notebooks/data_table.ipynb>data table notebook</a>'\n",
              "          + ' to learn more about interactive tables.';\n",
              "        element.innerHTML = '';\n",
              "        dataTable['output_type'] = 'display_data';\n",
              "        await google.colab.output.renderOutput(dataTable, element);\n",
              "        const docLink = document.createElement('div');\n",
              "        docLink.innerHTML = docLinkHtml;\n",
              "        element.appendChild(docLink);\n",
              "      }\n",
              "    </script>\n",
              "  </div>\n",
              "\n",
              "\n",
              "<div id=\"df-2dc1177e-a871-4ab7-83f2-c9e33f443b1c\">\n",
              "  <button class=\"colab-df-quickchart\" onclick=\"quickchart('df-2dc1177e-a871-4ab7-83f2-c9e33f443b1c')\"\n",
              "            title=\"Suggest charts\"\n",
              "            style=\"display:none;\">\n",
              "\n",
              "<svg xmlns=\"http://www.w3.org/2000/svg\" height=\"24px\"viewBox=\"0 0 24 24\"\n",
              "     width=\"24px\">\n",
              "    <g>\n",
              "        <path d=\"M19 3H5c-1.1 0-2 .9-2 2v14c0 1.1.9 2 2 2h14c1.1 0 2-.9 2-2V5c0-1.1-.9-2-2-2zM9 17H7v-7h2v7zm4 0h-2V7h2v10zm4 0h-2v-4h2v4z\"/>\n",
              "    </g>\n",
              "</svg>\n",
              "  </button>\n",
              "\n",
              "<style>\n",
              "  .colab-df-quickchart {\n",
              "      --bg-color: #E8F0FE;\n",
              "      --fill-color: #1967D2;\n",
              "      --hover-bg-color: #E2EBFA;\n",
              "      --hover-fill-color: #174EA6;\n",
              "      --disabled-fill-color: #AAA;\n",
              "      --disabled-bg-color: #DDD;\n",
              "  }\n",
              "\n",
              "  [theme=dark] .colab-df-quickchart {\n",
              "      --bg-color: #3B4455;\n",
              "      --fill-color: #D2E3FC;\n",
              "      --hover-bg-color: #434B5C;\n",
              "      --hover-fill-color: #FFFFFF;\n",
              "      --disabled-bg-color: #3B4455;\n",
              "      --disabled-fill-color: #666;\n",
              "  }\n",
              "\n",
              "  .colab-df-quickchart {\n",
              "    background-color: var(--bg-color);\n",
              "    border: none;\n",
              "    border-radius: 50%;\n",
              "    cursor: pointer;\n",
              "    display: none;\n",
              "    fill: var(--fill-color);\n",
              "    height: 32px;\n",
              "    padding: 0;\n",
              "    width: 32px;\n",
              "  }\n",
              "\n",
              "  .colab-df-quickchart:hover {\n",
              "    background-color: var(--hover-bg-color);\n",
              "    box-shadow: 0 1px 2px rgba(60, 64, 67, 0.3), 0 1px 3px 1px rgba(60, 64, 67, 0.15);\n",
              "    fill: var(--button-hover-fill-color);\n",
              "  }\n",
              "\n",
              "  .colab-df-quickchart-complete:disabled,\n",
              "  .colab-df-quickchart-complete:disabled:hover {\n",
              "    background-color: var(--disabled-bg-color);\n",
              "    fill: var(--disabled-fill-color);\n",
              "    box-shadow: none;\n",
              "  }\n",
              "\n",
              "  .colab-df-spinner {\n",
              "    border: 2px solid var(--fill-color);\n",
              "    border-color: transparent;\n",
              "    border-bottom-color: var(--fill-color);\n",
              "    animation:\n",
              "      spin 1s steps(1) infinite;\n",
              "  }\n",
              "\n",
              "  @keyframes spin {\n",
              "    0% {\n",
              "      border-color: transparent;\n",
              "      border-bottom-color: var(--fill-color);\n",
              "      border-left-color: var(--fill-color);\n",
              "    }\n",
              "    20% {\n",
              "      border-color: transparent;\n",
              "      border-left-color: var(--fill-color);\n",
              "      border-top-color: var(--fill-color);\n",
              "    }\n",
              "    30% {\n",
              "      border-color: transparent;\n",
              "      border-left-color: var(--fill-color);\n",
              "      border-top-color: var(--fill-color);\n",
              "      border-right-color: var(--fill-color);\n",
              "    }\n",
              "    40% {\n",
              "      border-color: transparent;\n",
              "      border-right-color: var(--fill-color);\n",
              "      border-top-color: var(--fill-color);\n",
              "    }\n",
              "    60% {\n",
              "      border-color: transparent;\n",
              "      border-right-color: var(--fill-color);\n",
              "    }\n",
              "    80% {\n",
              "      border-color: transparent;\n",
              "      border-right-color: var(--fill-color);\n",
              "      border-bottom-color: var(--fill-color);\n",
              "    }\n",
              "    90% {\n",
              "      border-color: transparent;\n",
              "      border-bottom-color: var(--fill-color);\n",
              "    }\n",
              "  }\n",
              "</style>\n",
              "\n",
              "  <script>\n",
              "    async function quickchart(key) {\n",
              "      const quickchartButtonEl =\n",
              "        document.querySelector('#' + key + ' button');\n",
              "      quickchartButtonEl.disabled = true;  // To prevent multiple clicks.\n",
              "      quickchartButtonEl.classList.add('colab-df-spinner');\n",
              "      try {\n",
              "        const charts = await google.colab.kernel.invokeFunction(\n",
              "            'suggestCharts', [key], {});\n",
              "      } catch (error) {\n",
              "        console.error('Error during call to suggestCharts:', error);\n",
              "      }\n",
              "      quickchartButtonEl.classList.remove('colab-df-spinner');\n",
              "      quickchartButtonEl.classList.add('colab-df-quickchart-complete');\n",
              "    }\n",
              "    (() => {\n",
              "      let quickchartButtonEl =\n",
              "        document.querySelector('#df-2dc1177e-a871-4ab7-83f2-c9e33f443b1c button');\n",
              "      quickchartButtonEl.style.display =\n",
              "        google.colab.kernel.accessAllowed ? 'block' : 'none';\n",
              "    })();\n",
              "  </script>\n",
              "</div>\n",
              "\n",
              "    </div>\n",
              "  </div>\n"
            ],
            "application/vnd.google.colaboratory.intrinsic+json": {
              "type": "dataframe",
              "variable_name": "df_join",
              "summary": "{\n  \"name\": \"df_join\",\n  \"rows\": 25,\n  \"fields\": [\n    {\n      \"column\": \"STARTPOS1\",\n      \"properties\": {\n        \"dtype\": \"string\",\n        \"num_unique_values\": 25,\n        \"samples\": [\n          \"\\uc601\\ub4f1\\ud3ec\\uad6c\",\n          \"\\uac15\\ubd81\\uad6c\",\n          \"\\ub178\\uc6d0\\uad6c\"\n        ],\n        \"semantic_type\": \"\",\n        \"description\": \"\"\n      }\n    },\n    {\n      \"column\": \"count\",\n      \"properties\": {\n        \"dtype\": \"number\",\n        \"std\": 699,\n        \"min\": 524,\n        \"max\": 3859,\n        \"num_unique_values\": 25,\n        \"samples\": [\n          1426,\n          1152,\n          3859\n        ],\n        \"semantic_type\": \"\",\n        \"description\": \"\"\n      }\n    },\n    {\n      \"column\": \"Severe\",\n      \"properties\": {\n        \"dtype\": \"date\",\n        \"min\": 1827,\n        \"max\": 11290,\n        \"num_unique_values\": 25,\n        \"samples\": [\n          4695,\n          6067,\n          11132\n        ],\n        \"semantic_type\": \"\",\n        \"description\": \"\"\n      }\n    }\n  ]\n}"
            }
          },
          "metadata": {},
          "execution_count": 82
        }
      ]
    },
    {
      "cell_type": "code",
      "source": [
        "df_join2.head()"
      ],
      "metadata": {
        "colab": {
          "base_uri": "https://localhost:8080/",
          "height": 237
        },
        "id": "SQM8U3l0E9Y2",
        "outputId": "2b69c328-57b4-4f62-ff62-a3a4ca1dcbc5",
        "collapsed": true
      },
      "execution_count": null,
      "outputs": [
        {
          "output_type": "execute_result",
          "data": {
            "text/plain": [
              "           count  TIME1\n",
              "STARTPOS1              \n",
              "노원구         3859   15.8\n",
              "강서구         2437   20.5\n",
              "서대문구        2051   25.3\n",
              "은평구         2045   28.2\n",
              "마포구         2027   23.5"
            ],
            "text/html": [
              "\n",
              "  <div id=\"df-47e27a7e-5fdf-4c9a-823c-c9430b8f6c45\" class=\"colab-df-container\">\n",
              "    <div>\n",
              "<style scoped>\n",
              "    .dataframe tbody tr th:only-of-type {\n",
              "        vertical-align: middle;\n",
              "    }\n",
              "\n",
              "    .dataframe tbody tr th {\n",
              "        vertical-align: top;\n",
              "    }\n",
              "\n",
              "    .dataframe thead th {\n",
              "        text-align: right;\n",
              "    }\n",
              "</style>\n",
              "<table border=\"1\" class=\"dataframe\">\n",
              "  <thead>\n",
              "    <tr style=\"text-align: right;\">\n",
              "      <th></th>\n",
              "      <th>count</th>\n",
              "      <th>TIME1</th>\n",
              "    </tr>\n",
              "    <tr>\n",
              "      <th>STARTPOS1</th>\n",
              "      <th></th>\n",
              "      <th></th>\n",
              "    </tr>\n",
              "  </thead>\n",
              "  <tbody>\n",
              "    <tr>\n",
              "      <th>노원구</th>\n",
              "      <td>3859</td>\n",
              "      <td>15.8</td>\n",
              "    </tr>\n",
              "    <tr>\n",
              "      <th>강서구</th>\n",
              "      <td>2437</td>\n",
              "      <td>20.5</td>\n",
              "    </tr>\n",
              "    <tr>\n",
              "      <th>서대문구</th>\n",
              "      <td>2051</td>\n",
              "      <td>25.3</td>\n",
              "    </tr>\n",
              "    <tr>\n",
              "      <th>은평구</th>\n",
              "      <td>2045</td>\n",
              "      <td>28.2</td>\n",
              "    </tr>\n",
              "    <tr>\n",
              "      <th>마포구</th>\n",
              "      <td>2027</td>\n",
              "      <td>23.5</td>\n",
              "    </tr>\n",
              "  </tbody>\n",
              "</table>\n",
              "</div>\n",
              "    <div class=\"colab-df-buttons\">\n",
              "\n",
              "  <div class=\"colab-df-container\">\n",
              "    <button class=\"colab-df-convert\" onclick=\"convertToInteractive('df-47e27a7e-5fdf-4c9a-823c-c9430b8f6c45')\"\n",
              "            title=\"Convert this dataframe to an interactive table.\"\n",
              "            style=\"display:none;\">\n",
              "\n",
              "  <svg xmlns=\"http://www.w3.org/2000/svg\" height=\"24px\" viewBox=\"0 -960 960 960\">\n",
              "    <path d=\"M120-120v-720h720v720H120Zm60-500h600v-160H180v160Zm220 220h160v-160H400v160Zm0 220h160v-160H400v160ZM180-400h160v-160H180v160Zm440 0h160v-160H620v160ZM180-180h160v-160H180v160Zm440 0h160v-160H620v160Z\"/>\n",
              "  </svg>\n",
              "    </button>\n",
              "\n",
              "  <style>\n",
              "    .colab-df-container {\n",
              "      display:flex;\n",
              "      gap: 12px;\n",
              "    }\n",
              "\n",
              "    .colab-df-convert {\n",
              "      background-color: #E8F0FE;\n",
              "      border: none;\n",
              "      border-radius: 50%;\n",
              "      cursor: pointer;\n",
              "      display: none;\n",
              "      fill: #1967D2;\n",
              "      height: 32px;\n",
              "      padding: 0 0 0 0;\n",
              "      width: 32px;\n",
              "    }\n",
              "\n",
              "    .colab-df-convert:hover {\n",
              "      background-color: #E2EBFA;\n",
              "      box-shadow: 0px 1px 2px rgba(60, 64, 67, 0.3), 0px 1px 3px 1px rgba(60, 64, 67, 0.15);\n",
              "      fill: #174EA6;\n",
              "    }\n",
              "\n",
              "    .colab-df-buttons div {\n",
              "      margin-bottom: 4px;\n",
              "    }\n",
              "\n",
              "    [theme=dark] .colab-df-convert {\n",
              "      background-color: #3B4455;\n",
              "      fill: #D2E3FC;\n",
              "    }\n",
              "\n",
              "    [theme=dark] .colab-df-convert:hover {\n",
              "      background-color: #434B5C;\n",
              "      box-shadow: 0px 1px 3px 1px rgba(0, 0, 0, 0.15);\n",
              "      filter: drop-shadow(0px 1px 2px rgba(0, 0, 0, 0.3));\n",
              "      fill: #FFFFFF;\n",
              "    }\n",
              "  </style>\n",
              "\n",
              "    <script>\n",
              "      const buttonEl =\n",
              "        document.querySelector('#df-47e27a7e-5fdf-4c9a-823c-c9430b8f6c45 button.colab-df-convert');\n",
              "      buttonEl.style.display =\n",
              "        google.colab.kernel.accessAllowed ? 'block' : 'none';\n",
              "\n",
              "      async function convertToInteractive(key) {\n",
              "        const element = document.querySelector('#df-47e27a7e-5fdf-4c9a-823c-c9430b8f6c45');\n",
              "        const dataTable =\n",
              "          await google.colab.kernel.invokeFunction('convertToInteractive',\n",
              "                                                    [key], {});\n",
              "        if (!dataTable) return;\n",
              "\n",
              "        const docLinkHtml = 'Like what you see? Visit the ' +\n",
              "          '<a target=\"_blank\" href=https://colab.research.google.com/notebooks/data_table.ipynb>data table notebook</a>'\n",
              "          + ' to learn more about interactive tables.';\n",
              "        element.innerHTML = '';\n",
              "        dataTable['output_type'] = 'display_data';\n",
              "        await google.colab.output.renderOutput(dataTable, element);\n",
              "        const docLink = document.createElement('div');\n",
              "        docLink.innerHTML = docLinkHtml;\n",
              "        element.appendChild(docLink);\n",
              "      }\n",
              "    </script>\n",
              "  </div>\n",
              "\n",
              "\n",
              "<div id=\"df-4d3508cf-aca4-41f8-b698-9db8e33470b6\">\n",
              "  <button class=\"colab-df-quickchart\" onclick=\"quickchart('df-4d3508cf-aca4-41f8-b698-9db8e33470b6')\"\n",
              "            title=\"Suggest charts\"\n",
              "            style=\"display:none;\">\n",
              "\n",
              "<svg xmlns=\"http://www.w3.org/2000/svg\" height=\"24px\"viewBox=\"0 0 24 24\"\n",
              "     width=\"24px\">\n",
              "    <g>\n",
              "        <path d=\"M19 3H5c-1.1 0-2 .9-2 2v14c0 1.1.9 2 2 2h14c1.1 0 2-.9 2-2V5c0-1.1-.9-2-2-2zM9 17H7v-7h2v7zm4 0h-2V7h2v10zm4 0h-2v-4h2v4z\"/>\n",
              "    </g>\n",
              "</svg>\n",
              "  </button>\n",
              "\n",
              "<style>\n",
              "  .colab-df-quickchart {\n",
              "      --bg-color: #E8F0FE;\n",
              "      --fill-color: #1967D2;\n",
              "      --hover-bg-color: #E2EBFA;\n",
              "      --hover-fill-color: #174EA6;\n",
              "      --disabled-fill-color: #AAA;\n",
              "      --disabled-bg-color: #DDD;\n",
              "  }\n",
              "\n",
              "  [theme=dark] .colab-df-quickchart {\n",
              "      --bg-color: #3B4455;\n",
              "      --fill-color: #D2E3FC;\n",
              "      --hover-bg-color: #434B5C;\n",
              "      --hover-fill-color: #FFFFFF;\n",
              "      --disabled-bg-color: #3B4455;\n",
              "      --disabled-fill-color: #666;\n",
              "  }\n",
              "\n",
              "  .colab-df-quickchart {\n",
              "    background-color: var(--bg-color);\n",
              "    border: none;\n",
              "    border-radius: 50%;\n",
              "    cursor: pointer;\n",
              "    display: none;\n",
              "    fill: var(--fill-color);\n",
              "    height: 32px;\n",
              "    padding: 0;\n",
              "    width: 32px;\n",
              "  }\n",
              "\n",
              "  .colab-df-quickchart:hover {\n",
              "    background-color: var(--hover-bg-color);\n",
              "    box-shadow: 0 1px 2px rgba(60, 64, 67, 0.3), 0 1px 3px 1px rgba(60, 64, 67, 0.15);\n",
              "    fill: var(--button-hover-fill-color);\n",
              "  }\n",
              "\n",
              "  .colab-df-quickchart-complete:disabled,\n",
              "  .colab-df-quickchart-complete:disabled:hover {\n",
              "    background-color: var(--disabled-bg-color);\n",
              "    fill: var(--disabled-fill-color);\n",
              "    box-shadow: none;\n",
              "  }\n",
              "\n",
              "  .colab-df-spinner {\n",
              "    border: 2px solid var(--fill-color);\n",
              "    border-color: transparent;\n",
              "    border-bottom-color: var(--fill-color);\n",
              "    animation:\n",
              "      spin 1s steps(1) infinite;\n",
              "  }\n",
              "\n",
              "  @keyframes spin {\n",
              "    0% {\n",
              "      border-color: transparent;\n",
              "      border-bottom-color: var(--fill-color);\n",
              "      border-left-color: var(--fill-color);\n",
              "    }\n",
              "    20% {\n",
              "      border-color: transparent;\n",
              "      border-left-color: var(--fill-color);\n",
              "      border-top-color: var(--fill-color);\n",
              "    }\n",
              "    30% {\n",
              "      border-color: transparent;\n",
              "      border-left-color: var(--fill-color);\n",
              "      border-top-color: var(--fill-color);\n",
              "      border-right-color: var(--fill-color);\n",
              "    }\n",
              "    40% {\n",
              "      border-color: transparent;\n",
              "      border-right-color: var(--fill-color);\n",
              "      border-top-color: var(--fill-color);\n",
              "    }\n",
              "    60% {\n",
              "      border-color: transparent;\n",
              "      border-right-color: var(--fill-color);\n",
              "    }\n",
              "    80% {\n",
              "      border-color: transparent;\n",
              "      border-right-color: var(--fill-color);\n",
              "      border-bottom-color: var(--fill-color);\n",
              "    }\n",
              "    90% {\n",
              "      border-color: transparent;\n",
              "      border-bottom-color: var(--fill-color);\n",
              "    }\n",
              "  }\n",
              "</style>\n",
              "\n",
              "  <script>\n",
              "    async function quickchart(key) {\n",
              "      const quickchartButtonEl =\n",
              "        document.querySelector('#' + key + ' button');\n",
              "      quickchartButtonEl.disabled = true;  // To prevent multiple clicks.\n",
              "      quickchartButtonEl.classList.add('colab-df-spinner');\n",
              "      try {\n",
              "        const charts = await google.colab.kernel.invokeFunction(\n",
              "            'suggestCharts', [key], {});\n",
              "      } catch (error) {\n",
              "        console.error('Error during call to suggestCharts:', error);\n",
              "      }\n",
              "      quickchartButtonEl.classList.remove('colab-df-spinner');\n",
              "      quickchartButtonEl.classList.add('colab-df-quickchart-complete');\n",
              "    }\n",
              "    (() => {\n",
              "      let quickchartButtonEl =\n",
              "        document.querySelector('#df-4d3508cf-aca4-41f8-b698-9db8e33470b6 button');\n",
              "      quickchartButtonEl.style.display =\n",
              "        google.colab.kernel.accessAllowed ? 'block' : 'none';\n",
              "    })();\n",
              "  </script>\n",
              "</div>\n",
              "\n",
              "    </div>\n",
              "  </div>\n"
            ],
            "application/vnd.google.colaboratory.intrinsic+json": {
              "type": "dataframe",
              "variable_name": "df_join2",
              "summary": "{\n  \"name\": \"df_join2\",\n  \"rows\": 25,\n  \"fields\": [\n    {\n      \"column\": \"STARTPOS1\",\n      \"properties\": {\n        \"dtype\": \"string\",\n        \"num_unique_values\": 25,\n        \"samples\": [\n          \"\\uc601\\ub4f1\\ud3ec\\uad6c\",\n          \"\\uac15\\ubd81\\uad6c\",\n          \"\\ub178\\uc6d0\\uad6c\"\n        ],\n        \"semantic_type\": \"\",\n        \"description\": \"\"\n      }\n    },\n    {\n      \"column\": \"count\",\n      \"properties\": {\n        \"dtype\": \"number\",\n        \"std\": 699,\n        \"min\": 524,\n        \"max\": 3859,\n        \"num_unique_values\": 25,\n        \"samples\": [\n          1426,\n          1152,\n          3859\n        ],\n        \"semantic_type\": \"\",\n        \"description\": \"\"\n      }\n    },\n    {\n      \"column\": \"TIME1\",\n      \"properties\": {\n        \"dtype\": \"number\",\n        \"std\": 4.34060575649682,\n        \"min\": 14.8,\n        \"max\": 31.4,\n        \"num_unique_values\": 24,\n        \"samples\": [\n          22.700000000000003,\n          21.1,\n          15.8\n        ],\n        \"semantic_type\": \"\",\n        \"description\": \"\"\n      }\n    }\n  ]\n}"
            }
          },
          "metadata": {},
          "execution_count": 83
        }
      ]
    },
    {
      "cell_type": "code",
      "source": [
        "df_joining = df_join.drop(['count'], axis=1)\n",
        "df_join3 = df_joining.merge(df_join2, on='STARTPOS1')\n",
        "\n",
        "df_join3.head()"
      ],
      "metadata": {
        "colab": {
          "base_uri": "https://localhost:8080/",
          "height": 237
        },
        "id": "R5j0m_5qEZhj",
        "outputId": "f8a98f48-4df1-496a-9d04-3875bc2e1467",
        "collapsed": true
      },
      "execution_count": null,
      "outputs": [
        {
          "output_type": "execute_result",
          "data": {
            "text/plain": [
              "          Severe  count  TIME1\n",
              "STARTPOS1                     \n",
              "노원구        11132   3859   15.8\n",
              "강서구        11290   2437   20.5\n",
              "서대문구        4248   2051   25.3\n",
              "은평구         7937   2045   28.2\n",
              "마포구         4724   2027   23.5"
            ],
            "text/html": [
              "\n",
              "  <div id=\"df-4a5b0f22-7660-4a05-9c2d-0a668d26c6ae\" class=\"colab-df-container\">\n",
              "    <div>\n",
              "<style scoped>\n",
              "    .dataframe tbody tr th:only-of-type {\n",
              "        vertical-align: middle;\n",
              "    }\n",
              "\n",
              "    .dataframe tbody tr th {\n",
              "        vertical-align: top;\n",
              "    }\n",
              "\n",
              "    .dataframe thead th {\n",
              "        text-align: right;\n",
              "    }\n",
              "</style>\n",
              "<table border=\"1\" class=\"dataframe\">\n",
              "  <thead>\n",
              "    <tr style=\"text-align: right;\">\n",
              "      <th></th>\n",
              "      <th>Severe</th>\n",
              "      <th>count</th>\n",
              "      <th>TIME1</th>\n",
              "    </tr>\n",
              "    <tr>\n",
              "      <th>STARTPOS1</th>\n",
              "      <th></th>\n",
              "      <th></th>\n",
              "      <th></th>\n",
              "    </tr>\n",
              "  </thead>\n",
              "  <tbody>\n",
              "    <tr>\n",
              "      <th>노원구</th>\n",
              "      <td>11132</td>\n",
              "      <td>3859</td>\n",
              "      <td>15.8</td>\n",
              "    </tr>\n",
              "    <tr>\n",
              "      <th>강서구</th>\n",
              "      <td>11290</td>\n",
              "      <td>2437</td>\n",
              "      <td>20.5</td>\n",
              "    </tr>\n",
              "    <tr>\n",
              "      <th>서대문구</th>\n",
              "      <td>4248</td>\n",
              "      <td>2051</td>\n",
              "      <td>25.3</td>\n",
              "    </tr>\n",
              "    <tr>\n",
              "      <th>은평구</th>\n",
              "      <td>7937</td>\n",
              "      <td>2045</td>\n",
              "      <td>28.2</td>\n",
              "    </tr>\n",
              "    <tr>\n",
              "      <th>마포구</th>\n",
              "      <td>4724</td>\n",
              "      <td>2027</td>\n",
              "      <td>23.5</td>\n",
              "    </tr>\n",
              "  </tbody>\n",
              "</table>\n",
              "</div>\n",
              "    <div class=\"colab-df-buttons\">\n",
              "\n",
              "  <div class=\"colab-df-container\">\n",
              "    <button class=\"colab-df-convert\" onclick=\"convertToInteractive('df-4a5b0f22-7660-4a05-9c2d-0a668d26c6ae')\"\n",
              "            title=\"Convert this dataframe to an interactive table.\"\n",
              "            style=\"display:none;\">\n",
              "\n",
              "  <svg xmlns=\"http://www.w3.org/2000/svg\" height=\"24px\" viewBox=\"0 -960 960 960\">\n",
              "    <path d=\"M120-120v-720h720v720H120Zm60-500h600v-160H180v160Zm220 220h160v-160H400v160Zm0 220h160v-160H400v160ZM180-400h160v-160H180v160Zm440 0h160v-160H620v160ZM180-180h160v-160H180v160Zm440 0h160v-160H620v160Z\"/>\n",
              "  </svg>\n",
              "    </button>\n",
              "\n",
              "  <style>\n",
              "    .colab-df-container {\n",
              "      display:flex;\n",
              "      gap: 12px;\n",
              "    }\n",
              "\n",
              "    .colab-df-convert {\n",
              "      background-color: #E8F0FE;\n",
              "      border: none;\n",
              "      border-radius: 50%;\n",
              "      cursor: pointer;\n",
              "      display: none;\n",
              "      fill: #1967D2;\n",
              "      height: 32px;\n",
              "      padding: 0 0 0 0;\n",
              "      width: 32px;\n",
              "    }\n",
              "\n",
              "    .colab-df-convert:hover {\n",
              "      background-color: #E2EBFA;\n",
              "      box-shadow: 0px 1px 2px rgba(60, 64, 67, 0.3), 0px 1px 3px 1px rgba(60, 64, 67, 0.15);\n",
              "      fill: #174EA6;\n",
              "    }\n",
              "\n",
              "    .colab-df-buttons div {\n",
              "      margin-bottom: 4px;\n",
              "    }\n",
              "\n",
              "    [theme=dark] .colab-df-convert {\n",
              "      background-color: #3B4455;\n",
              "      fill: #D2E3FC;\n",
              "    }\n",
              "\n",
              "    [theme=dark] .colab-df-convert:hover {\n",
              "      background-color: #434B5C;\n",
              "      box-shadow: 0px 1px 3px 1px rgba(0, 0, 0, 0.15);\n",
              "      filter: drop-shadow(0px 1px 2px rgba(0, 0, 0, 0.3));\n",
              "      fill: #FFFFFF;\n",
              "    }\n",
              "  </style>\n",
              "\n",
              "    <script>\n",
              "      const buttonEl =\n",
              "        document.querySelector('#df-4a5b0f22-7660-4a05-9c2d-0a668d26c6ae button.colab-df-convert');\n",
              "      buttonEl.style.display =\n",
              "        google.colab.kernel.accessAllowed ? 'block' : 'none';\n",
              "\n",
              "      async function convertToInteractive(key) {\n",
              "        const element = document.querySelector('#df-4a5b0f22-7660-4a05-9c2d-0a668d26c6ae');\n",
              "        const dataTable =\n",
              "          await google.colab.kernel.invokeFunction('convertToInteractive',\n",
              "                                                    [key], {});\n",
              "        if (!dataTable) return;\n",
              "\n",
              "        const docLinkHtml = 'Like what you see? Visit the ' +\n",
              "          '<a target=\"_blank\" href=https://colab.research.google.com/notebooks/data_table.ipynb>data table notebook</a>'\n",
              "          + ' to learn more about interactive tables.';\n",
              "        element.innerHTML = '';\n",
              "        dataTable['output_type'] = 'display_data';\n",
              "        await google.colab.output.renderOutput(dataTable, element);\n",
              "        const docLink = document.createElement('div');\n",
              "        docLink.innerHTML = docLinkHtml;\n",
              "        element.appendChild(docLink);\n",
              "      }\n",
              "    </script>\n",
              "  </div>\n",
              "\n",
              "\n",
              "<div id=\"df-f6704f90-46f1-41c9-84eb-62ae1b757617\">\n",
              "  <button class=\"colab-df-quickchart\" onclick=\"quickchart('df-f6704f90-46f1-41c9-84eb-62ae1b757617')\"\n",
              "            title=\"Suggest charts\"\n",
              "            style=\"display:none;\">\n",
              "\n",
              "<svg xmlns=\"http://www.w3.org/2000/svg\" height=\"24px\"viewBox=\"0 0 24 24\"\n",
              "     width=\"24px\">\n",
              "    <g>\n",
              "        <path d=\"M19 3H5c-1.1 0-2 .9-2 2v14c0 1.1.9 2 2 2h14c1.1 0 2-.9 2-2V5c0-1.1-.9-2-2-2zM9 17H7v-7h2v7zm4 0h-2V7h2v10zm4 0h-2v-4h2v4z\"/>\n",
              "    </g>\n",
              "</svg>\n",
              "  </button>\n",
              "\n",
              "<style>\n",
              "  .colab-df-quickchart {\n",
              "      --bg-color: #E8F0FE;\n",
              "      --fill-color: #1967D2;\n",
              "      --hover-bg-color: #E2EBFA;\n",
              "      --hover-fill-color: #174EA6;\n",
              "      --disabled-fill-color: #AAA;\n",
              "      --disabled-bg-color: #DDD;\n",
              "  }\n",
              "\n",
              "  [theme=dark] .colab-df-quickchart {\n",
              "      --bg-color: #3B4455;\n",
              "      --fill-color: #D2E3FC;\n",
              "      --hover-bg-color: #434B5C;\n",
              "      --hover-fill-color: #FFFFFF;\n",
              "      --disabled-bg-color: #3B4455;\n",
              "      --disabled-fill-color: #666;\n",
              "  }\n",
              "\n",
              "  .colab-df-quickchart {\n",
              "    background-color: var(--bg-color);\n",
              "    border: none;\n",
              "    border-radius: 50%;\n",
              "    cursor: pointer;\n",
              "    display: none;\n",
              "    fill: var(--fill-color);\n",
              "    height: 32px;\n",
              "    padding: 0;\n",
              "    width: 32px;\n",
              "  }\n",
              "\n",
              "  .colab-df-quickchart:hover {\n",
              "    background-color: var(--hover-bg-color);\n",
              "    box-shadow: 0 1px 2px rgba(60, 64, 67, 0.3), 0 1px 3px 1px rgba(60, 64, 67, 0.15);\n",
              "    fill: var(--button-hover-fill-color);\n",
              "  }\n",
              "\n",
              "  .colab-df-quickchart-complete:disabled,\n",
              "  .colab-df-quickchart-complete:disabled:hover {\n",
              "    background-color: var(--disabled-bg-color);\n",
              "    fill: var(--disabled-fill-color);\n",
              "    box-shadow: none;\n",
              "  }\n",
              "\n",
              "  .colab-df-spinner {\n",
              "    border: 2px solid var(--fill-color);\n",
              "    border-color: transparent;\n",
              "    border-bottom-color: var(--fill-color);\n",
              "    animation:\n",
              "      spin 1s steps(1) infinite;\n",
              "  }\n",
              "\n",
              "  @keyframes spin {\n",
              "    0% {\n",
              "      border-color: transparent;\n",
              "      border-bottom-color: var(--fill-color);\n",
              "      border-left-color: var(--fill-color);\n",
              "    }\n",
              "    20% {\n",
              "      border-color: transparent;\n",
              "      border-left-color: var(--fill-color);\n",
              "      border-top-color: var(--fill-color);\n",
              "    }\n",
              "    30% {\n",
              "      border-color: transparent;\n",
              "      border-left-color: var(--fill-color);\n",
              "      border-top-color: var(--fill-color);\n",
              "      border-right-color: var(--fill-color);\n",
              "    }\n",
              "    40% {\n",
              "      border-color: transparent;\n",
              "      border-right-color: var(--fill-color);\n",
              "      border-top-color: var(--fill-color);\n",
              "    }\n",
              "    60% {\n",
              "      border-color: transparent;\n",
              "      border-right-color: var(--fill-color);\n",
              "    }\n",
              "    80% {\n",
              "      border-color: transparent;\n",
              "      border-right-color: var(--fill-color);\n",
              "      border-bottom-color: var(--fill-color);\n",
              "    }\n",
              "    90% {\n",
              "      border-color: transparent;\n",
              "      border-bottom-color: var(--fill-color);\n",
              "    }\n",
              "  }\n",
              "</style>\n",
              "\n",
              "  <script>\n",
              "    async function quickchart(key) {\n",
              "      const quickchartButtonEl =\n",
              "        document.querySelector('#' + key + ' button');\n",
              "      quickchartButtonEl.disabled = true;  // To prevent multiple clicks.\n",
              "      quickchartButtonEl.classList.add('colab-df-spinner');\n",
              "      try {\n",
              "        const charts = await google.colab.kernel.invokeFunction(\n",
              "            'suggestCharts', [key], {});\n",
              "      } catch (error) {\n",
              "        console.error('Error during call to suggestCharts:', error);\n",
              "      }\n",
              "      quickchartButtonEl.classList.remove('colab-df-spinner');\n",
              "      quickchartButtonEl.classList.add('colab-df-quickchart-complete');\n",
              "    }\n",
              "    (() => {\n",
              "      let quickchartButtonEl =\n",
              "        document.querySelector('#df-f6704f90-46f1-41c9-84eb-62ae1b757617 button');\n",
              "      quickchartButtonEl.style.display =\n",
              "        google.colab.kernel.accessAllowed ? 'block' : 'none';\n",
              "    })();\n",
              "  </script>\n",
              "</div>\n",
              "\n",
              "    </div>\n",
              "  </div>\n"
            ],
            "application/vnd.google.colaboratory.intrinsic+json": {
              "type": "dataframe",
              "variable_name": "df_join3",
              "summary": "{\n  \"name\": \"df_join3\",\n  \"rows\": 25,\n  \"fields\": [\n    {\n      \"column\": \"STARTPOS1\",\n      \"properties\": {\n        \"dtype\": \"string\",\n        \"num_unique_values\": 25,\n        \"samples\": [\n          \"\\uc601\\ub4f1\\ud3ec\\uad6c\",\n          \"\\uac15\\ubd81\\uad6c\",\n          \"\\ub178\\uc6d0\\uad6c\"\n        ],\n        \"semantic_type\": \"\",\n        \"description\": \"\"\n      }\n    },\n    {\n      \"column\": \"Severe\",\n      \"properties\": {\n        \"dtype\": \"date\",\n        \"min\": 1827,\n        \"max\": 11290,\n        \"num_unique_values\": 25,\n        \"samples\": [\n          4695,\n          6067,\n          11132\n        ],\n        \"semantic_type\": \"\",\n        \"description\": \"\"\n      }\n    },\n    {\n      \"column\": \"count\",\n      \"properties\": {\n        \"dtype\": \"number\",\n        \"std\": 699,\n        \"min\": 524,\n        \"max\": 3859,\n        \"num_unique_values\": 25,\n        \"samples\": [\n          1426,\n          1152,\n          3859\n        ],\n        \"semantic_type\": \"\",\n        \"description\": \"\"\n      }\n    },\n    {\n      \"column\": \"TIME1\",\n      \"properties\": {\n        \"dtype\": \"number\",\n        \"std\": 4.34060575649682,\n        \"min\": 14.8,\n        \"max\": 31.4,\n        \"num_unique_values\": 24,\n        \"samples\": [\n          22.700000000000003,\n          21.1,\n          15.8\n        ],\n        \"semantic_type\": \"\",\n        \"description\": \"\"\n      }\n    }\n  ]\n}"
            }
          },
          "metadata": {},
          "execution_count": 92
        }
      ]
    },
    {
      "cell_type": "code",
      "source": [
        "plt.figure(figsize=(10, 8))\n",
        "sns.heatmap(df_join3.corr(), annot=True, cmap=\"YlGnBu\")\n",
        "plt.show()"
      ],
      "metadata": {
        "colab": {
          "base_uri": "https://localhost:8080/",
          "height": 767
        },
        "id": "fuPlIUPGD5ov",
        "outputId": "8f241606-a021-40bd-f384-e80e01d64c21"
      },
      "execution_count": null,
      "outputs": [
        {
          "output_type": "stream",
          "name": "stderr",
          "text": [
            "/usr/local/lib/python3.10/dist-packages/seaborn/utils.py:61: UserWarning: Glyph 8722 (\\N{MINUS SIGN}) missing from current font.\n",
            "  fig.canvas.draw()\n",
            "/usr/local/lib/python3.10/dist-packages/IPython/core/pylabtools.py:151: UserWarning: Glyph 8722 (\\N{MINUS SIGN}) missing from current font.\n",
            "  fig.canvas.print_figure(bytes_io, **kw)\n"
          ]
        },
        {
          "output_type": "display_data",
          "data": {
            "text/plain": [
              "<Figure size 1000x800 with 2 Axes>"
            ],
            "image/png": "[encoded data removed]"
          },
          "metadata": {}
        }
      ]
    },
    {
      "cell_type": "code",
      "source": [
        "df_join2 = topSTARTPOS1_slec.join(pos_median_slec)\n",
        "df_join2.head()"
      ],
      "metadata": {
        "colab": {
          "base_uri": "https://localhost:8080/",
          "height": 237
        },
        "id": "g-ktg3Za2vZs",
        "outputId": "eeff037d-fd26-4fe9-f3f5-adbb91ef780b",
        "collapsed": true
      },
      "execution_count": null,
      "outputs": [
        {
          "output_type": "execute_result",
          "data": {
            "text/plain": [
              "           count  TIME1\n",
              "STARTPOS1              \n",
              "노원구         3859   15.8\n",
              "강서구         2437   20.5\n",
              "서대문구        2051   25.3\n",
              "은평구         2045   28.2\n",
              "마포구         2027   23.5"
            ],
            "text/html": [
              "\n",
              "  <div id=\"df-390df1ea-058b-43ae-8a49-e24b79f7a3ea\" class=\"colab-df-container\">\n",
              "    <div>\n",
              "<style scoped>\n",
              "    .dataframe tbody tr th:only-of-type {\n",
              "        vertical-align: middle;\n",
              "    }\n",
              "\n",
              "    .dataframe tbody tr th {\n",
              "        vertical-align: top;\n",
              "    }\n",
              "\n",
              "    .dataframe thead th {\n",
              "        text-align: right;\n",
              "    }\n",
              "</style>\n",
              "<table border=\"1\" class=\"dataframe\">\n",
              "  <thead>\n",
              "    <tr style=\"text-align: right;\">\n",
              "      <th></th>\n",
              "      <th>count</th>\n",
              "      <th>TIME1</th>\n",
              "    </tr>\n",
              "    <tr>\n",
              "      <th>STARTPOS1</th>\n",
              "      <th></th>\n",
              "      <th></th>\n",
              "    </tr>\n",
              "  </thead>\n",
              "  <tbody>\n",
              "    <tr>\n",
              "      <th>노원구</th>\n",
              "      <td>3859</td>\n",
              "      <td>15.8</td>\n",
              "    </tr>\n",
              "    <tr>\n",
              "      <th>강서구</th>\n",
              "      <td>2437</td>\n",
              "      <td>20.5</td>\n",
              "    </tr>\n",
              "    <tr>\n",
              "      <th>서대문구</th>\n",
              "      <td>2051</td>\n",
              "      <td>25.3</td>\n",
              "    </tr>\n",
              "    <tr>\n",
              "      <th>은평구</th>\n",
              "      <td>2045</td>\n",
              "      <td>28.2</td>\n",
              "    </tr>\n",
              "    <tr>\n",
              "      <th>마포구</th>\n",
              "      <td>2027</td>\n",
              "      <td>23.5</td>\n",
              "    </tr>\n",
              "  </tbody>\n",
              "</table>\n",
              "</div>\n",
              "    <div class=\"colab-df-buttons\">\n",
              "\n",
              "  <div class=\"colab-df-container\">\n",
              "    <button class=\"colab-df-convert\" onclick=\"convertToInteractive('df-390df1ea-058b-43ae-8a49-e24b79f7a3ea')\"\n",
              "            title=\"Convert this dataframe to an interactive table.\"\n",
              "            style=\"display:none;\">\n",
              "\n",
              "  <svg xmlns=\"http://www.w3.org/2000/svg\" height=\"24px\" viewBox=\"0 -960 960 960\">\n",
              "    <path d=\"M120-120v-720h720v720H120Zm60-500h600v-160H180v160Zm220 220h160v-160H400v160Zm0 220h160v-160H400v160ZM180-400h160v-160H180v160Zm440 0h160v-160H620v160ZM180-180h160v-160H180v160Zm440 0h160v-160H620v160Z\"/>\n",
              "  </svg>\n",
              "    </button>\n",
              "\n",
              "  <style>\n",
              "    .colab-df-container {\n",
              "      display:flex;\n",
              "      gap: 12px;\n",
              "    }\n",
              "\n",
              "    .colab-df-convert {\n",
              "      background-color: #E8F0FE;\n",
              "      border: none;\n",
              "      border-radius: 50%;\n",
              "      cursor: pointer;\n",
              "      display: none;\n",
              "      fill: #1967D2;\n",
              "      height: 32px;\n",
              "      padding: 0 0 0 0;\n",
              "      width: 32px;\n",
              "    }\n",
              "\n",
              "    .colab-df-convert:hover {\n",
              "      background-color: #E2EBFA;\n",
              "      box-shadow: 0px 1px 2px rgba(60, 64, 67, 0.3), 0px 1px 3px 1px rgba(60, 64, 67, 0.15);\n",
              "      fill: #174EA6;\n",
              "    }\n",
              "\n",
              "    .colab-df-buttons div {\n",
              "      margin-bottom: 4px;\n",
              "    }\n",
              "\n",
              "    [theme=dark] .colab-df-convert {\n",
              "      background-color: #3B4455;\n",
              "      fill: #D2E3FC;\n",
              "    }\n",
              "\n",
              "    [theme=dark] .colab-df-convert:hover {\n",
              "      background-color: #434B5C;\n",
              "      box-shadow: 0px 1px 3px 1px rgba(0, 0, 0, 0.15);\n",
              "      filter: drop-shadow(0px 1px 2px rgba(0, 0, 0, 0.3));\n",
              "      fill: #FFFFFF;\n",
              "    }\n",
              "  </style>\n",
              "\n",
              "    <script>\n",
              "      const buttonEl =\n",
              "        document.querySelector('#df-390df1ea-058b-43ae-8a49-e24b79f7a3ea button.colab-df-convert');\n",
              "      buttonEl.style.display =\n",
              "        google.colab.kernel.accessAllowed ? 'block' : 'none';\n",
              "\n",
              "      async function convertToInteractive(key) {\n",
              "        const element = document.querySelector('#df-390df1ea-058b-43ae-8a49-e24b79f7a3ea');\n",
              "        const dataTable =\n",
              "          await google.colab.kernel.invokeFunction('convertToInteractive',\n",
              "                                                    [key], {});\n",
              "        if (!dataTable) return;\n",
              "\n",
              "        const docLinkHtml = 'Like what you see? Visit the ' +\n",
              "          '<a target=\"_blank\" href=https://colab.research.google.com/notebooks/data_table.ipynb>data table notebook</a>'\n",
              "          + ' to learn more about interactive tables.';\n",
              "        element.innerHTML = '';\n",
              "        dataTable['output_type'] = 'display_data';\n",
              "        await google.colab.output.renderOutput(dataTable, element);\n",
              "        const docLink = document.createElement('div');\n",
              "        docLink.innerHTML = docLinkHtml;\n",
              "        element.appendChild(docLink);\n",
              "      }\n",
              "    </script>\n",
              "  </div>\n",
              "\n",
              "\n",
              "<div id=\"df-4b4bf135-6576-4aad-a5cb-4effebb0348c\">\n",
              "  <button class=\"colab-df-quickchart\" onclick=\"quickchart('df-4b4bf135-6576-4aad-a5cb-4effebb0348c')\"\n",
              "            title=\"Suggest charts\"\n",
              "            style=\"display:none;\">\n",
              "\n",
              "<svg xmlns=\"http://www.w3.org/2000/svg\" height=\"24px\"viewBox=\"0 0 24 24\"\n",
              "     width=\"24px\">\n",
              "    <g>\n",
              "        <path d=\"M19 3H5c-1.1 0-2 .9-2 2v14c0 1.1.9 2 2 2h14c1.1 0 2-.9 2-2V5c0-1.1-.9-2-2-2zM9 17H7v-7h2v7zm4 0h-2V7h2v10zm4 0h-2v-4h2v4z\"/>\n",
              "    </g>\n",
              "</svg>\n",
              "  </button>\n",
              "\n",
              "<style>\n",
              "  .colab-df-quickchart {\n",
              "      --bg-color: #E8F0FE;\n",
              "      --fill-color: #1967D2;\n",
              "      --hover-bg-color: #E2EBFA;\n",
              "      --hover-fill-color: #174EA6;\n",
              "      --disabled-fill-color: #AAA;\n",
              "      --disabled-bg-color: #DDD;\n",
              "  }\n",
              "\n",
              "  [theme=dark] .colab-df-quickchart {\n",
              "      --bg-color: #3B4455;\n",
              "      --fill-color: #D2E3FC;\n",
              "      --hover-bg-color: #434B5C;\n",
              "      --hover-fill-color: #FFFFFF;\n",
              "      --disabled-bg-color: #3B4455;\n",
              "      --disabled-fill-color: #666;\n",
              "  }\n",
              "\n",
              "  .colab-df-quickchart {\n",
              "    background-color: var(--bg-color);\n",
              "    border: none;\n",
              "    border-radius: 50%;\n",
              "    cursor: pointer;\n",
              "    display: none;\n",
              "    fill: var(--fill-color);\n",
              "    height: 32px;\n",
              "    padding: 0;\n",
              "    width: 32px;\n",
              "  }\n",
              "\n",
              "  .colab-df-quickchart:hover {\n",
              "    background-color: var(--hover-bg-color);\n",
              "    box-shadow: 0 1px 2px rgba(60, 64, 67, 0.3), 0 1px 3px 1px rgba(60, 64, 67, 0.15);\n",
              "    fill: var(--button-hover-fill-color);\n",
              "  }\n",
              "\n",
              "  .colab-df-quickchart-complete:disabled,\n",
              "  .colab-df-quickchart-complete:disabled:hover {\n",
              "    background-color: var(--disabled-bg-color);\n",
              "    fill: var(--disabled-fill-color);\n",
              "    box-shadow: none;\n",
              "  }\n",
              "\n",
              "  .colab-df-spinner {\n",
              "    border: 2px solid var(--fill-color);\n",
              "    border-color: transparent;\n",
              "    border-bottom-color: var(--fill-color);\n",
              "    animation:\n",
              "      spin 1s steps(1) infinite;\n",
              "  }\n",
              "\n",
              "  @keyframes spin {\n",
              "    0% {\n",
              "      border-color: transparent;\n",
              "      border-bottom-color: var(--fill-color);\n",
              "      border-left-color: var(--fill-color);\n",
              "    }\n",
              "    20% {\n",
              "      border-color: transparent;\n",
              "      border-left-color: var(--fill-color);\n",
              "      border-top-color: var(--fill-color);\n",
              "    }\n",
              "    30% {\n",
              "      border-color: transparent;\n",
              "      border-left-color: var(--fill-color);\n",
              "      border-top-color: var(--fill-color);\n",
              "      border-right-color: var(--fill-color);\n",
              "    }\n",
              "    40% {\n",
              "      border-color: transparent;\n",
              "      border-right-color: var(--fill-color);\n",
              "      border-top-color: var(--fill-color);\n",
              "    }\n",
              "    60% {\n",
              "      border-color: transparent;\n",
              "      border-right-color: var(--fill-color);\n",
              "    }\n",
              "    80% {\n",
              "      border-color: transparent;\n",
              "      border-right-color: var(--fill-color);\n",
              "      border-bottom-color: var(--fill-color);\n",
              "    }\n",
              "    90% {\n",
              "      border-color: transparent;\n",
              "      border-bottom-color: var(--fill-color);\n",
              "    }\n",
              "  }\n",
              "</style>\n",
              "\n",
              "  <script>\n",
              "    async function quickchart(key) {\n",
              "      const quickchartButtonEl =\n",
              "        document.querySelector('#' + key + ' button');\n",
              "      quickchartButtonEl.disabled = true;  // To prevent multiple clicks.\n",
              "      quickchartButtonEl.classList.add('colab-df-spinner');\n",
              "      try {\n",
              "        const charts = await google.colab.kernel.invokeFunction(\n",
              "            'suggestCharts', [key], {});\n",
              "      } catch (error) {\n",
              "        console.error('Error during call to suggestCharts:', error);\n",
              "      }\n",
              "      quickchartButtonEl.classList.remove('colab-df-spinner');\n",
              "      quickchartButtonEl.classList.add('colab-df-quickchart-complete');\n",
              "    }\n",
              "    (() => {\n",
              "      let quickchartButtonEl =\n",
              "        document.querySelector('#df-4b4bf135-6576-4aad-a5cb-4effebb0348c button');\n",
              "      quickchartButtonEl.style.display =\n",
              "        google.colab.kernel.accessAllowed ? 'block' : 'none';\n",
              "    })();\n",
              "  </script>\n",
              "</div>\n",
              "\n",
              "    </div>\n",
              "  </div>\n"
            ],
            "application/vnd.google.colaboratory.intrinsic+json": {
              "type": "dataframe",
              "variable_name": "df_join2",
              "summary": "{\n  \"name\": \"df_join2\",\n  \"rows\": 25,\n  \"fields\": [\n    {\n      \"column\": \"STARTPOS1\",\n      \"properties\": {\n        \"dtype\": \"string\",\n        \"num_unique_values\": 25,\n        \"samples\": [\n          \"\\uc601\\ub4f1\\ud3ec\\uad6c\",\n          \"\\uac15\\ubd81\\uad6c\",\n          \"\\ub178\\uc6d0\\uad6c\"\n        ],\n        \"semantic_type\": \"\",\n        \"description\": \"\"\n      }\n    },\n    {\n      \"column\": \"count\",\n      \"properties\": {\n        \"dtype\": \"number\",\n        \"std\": 699,\n        \"min\": 524,\n        \"max\": 3859,\n        \"num_unique_values\": 25,\n        \"samples\": [\n          1426,\n          1152,\n          3859\n        ],\n        \"semantic_type\": \"\",\n        \"description\": \"\"\n      }\n    },\n    {\n      \"column\": \"TIME1\",\n      \"properties\": {\n        \"dtype\": \"number\",\n        \"std\": 4.34060575649682,\n        \"min\": 14.8,\n        \"max\": 31.4,\n        \"num_unique_values\": 24,\n        \"samples\": [\n          22.700000000000003,\n          21.1,\n          15.8\n        ],\n        \"semantic_type\": \"\",\n        \"description\": \"\"\n      }\n    }\n  ]\n}"
            }
          },
          "metadata": {},
          "execution_count": 51
        }
      ]
    },
    {
      "cell_type": "code",
      "source": [
        "from sklearn.preprocessing import MinMaxScaler\n",
        "minmax_scaler = MinMaxScaler()\n",
        "\n",
        "train_minmax = minmax_scaler.fit_transform(df_join2)\n",
        "train_minmax = pd.DataFrame(train_minmax,\n",
        "                            index=df_join2.index,\n",
        "                            columns=df_join2.columns)\n",
        "train_minmax.head()"
      ],
      "metadata": {
        "colab": {
          "base_uri": "https://localhost:8080/",
          "height": 237
        },
        "id": "iqkdIPcg30GE",
        "outputId": "746dfd36-31fd-4912-aa31-96714e0c0d46",
        "collapsed": true
      },
      "execution_count": null,
      "outputs": [
        {
          "output_type": "execute_result",
          "data": {
            "text/plain": [
              "              count     TIME1\n",
              "STARTPOS1                    \n",
              "노원구        1.000000  0.060241\n",
              "강서구        0.573613  0.343373\n",
              "서대문구       0.457871  0.632530\n",
              "은평구        0.456072  0.807229\n",
              "마포구        0.450675  0.524096"
            ],
            "text/html": [
              "\n",
              "  <div id=\"df-877fad13-4885-43a8-97d6-40db43888f2a\" class=\"colab-df-container\">\n",
              "    <div>\n",
              "<style scoped>\n",
              "    .dataframe tbody tr th:only-of-type {\n",
              "        vertical-align: middle;\n",
              "    }\n",
              "\n",
              "    .dataframe tbody tr th {\n",
              "        vertical-align: top;\n",
              "    }\n",
              "\n",
              "    .dataframe thead th {\n",
              "        text-align: right;\n",
              "    }\n",
              "</style>\n",
              "<table border=\"1\" class=\"dataframe\">\n",
              "  <thead>\n",
              "    <tr style=\"text-align: right;\">\n",
              "      <th></th>\n",
              "      <th>count</th>\n",
              "      <th>TIME1</th>\n",
              "    </tr>\n",
              "    <tr>\n",
              "      <th>STARTPOS1</th>\n",
              "      <th></th>\n",
              "      <th></th>\n",
              "    </tr>\n",
              "  </thead>\n",
              "  <tbody>\n",
              "    <tr>\n",
              "      <th>노원구</th>\n",
              "      <td>1.000000</td>\n",
              "      <td>0.060241</td>\n",
              "    </tr>\n",
              "    <tr>\n",
              "      <th>강서구</th>\n",
              "      <td>0.573613</td>\n",
              "      <td>0.343373</td>\n",
              "    </tr>\n",
              "    <tr>\n",
              "      <th>서대문구</th>\n",
              "      <td>0.457871</td>\n",
              "      <td>0.632530</td>\n",
              "    </tr>\n",
              "    <tr>\n",
              "      <th>은평구</th>\n",
              "      <td>0.456072</td>\n",
              "      <td>0.807229</td>\n",
              "    </tr>\n",
              "    <tr>\n",
              "      <th>마포구</th>\n",
              "      <td>0.450675</td>\n",
              "      <td>0.524096</td>\n",
              "    </tr>\n",
              "  </tbody>\n",
              "</table>\n",
              "</div>\n",
              "    <div class=\"colab-df-buttons\">\n",
              "\n",
              "  <div class=\"colab-df-container\">\n",
              "    <button class=\"colab-df-convert\" onclick=\"convertToInteractive('df-877fad13-4885-43a8-97d6-40db43888f2a')\"\n",
              "            title=\"Convert this dataframe to an interactive table.\"\n",
              "            style=\"display:none;\">\n",
              "\n",
              "  <svg xmlns=\"http://www.w3.org/2000/svg\" height=\"24px\" viewBox=\"0 -960 960 960\">\n",
              "    <path d=\"M120-120v-720h720v720H120Zm60-500h600v-160H180v160Zm220 220h160v-160H400v160Zm0 220h160v-160H400v160ZM180-400h160v-160H180v160Zm440 0h160v-160H620v160ZM180-180h160v-160H180v160Zm440 0h160v-160H620v160Z\"/>\n",
              "  </svg>\n",
              "    </button>\n",
              "\n",
              "  <style>\n",
              "    .colab-df-container {\n",
              "      display:flex;\n",
              "      gap: 12px;\n",
              "    }\n",
              "\n",
              "    .colab-df-convert {\n",
              "      background-color: #E8F0FE;\n",
              "      border: none;\n",
              "      border-radius: 50%;\n",
              "      cursor: pointer;\n",
              "      display: none;\n",
              "      fill: #1967D2;\n",
              "      height: 32px;\n",
              "      padding: 0 0 0 0;\n",
              "      width: 32px;\n",
              "    }\n",
              "\n",
              "    .colab-df-convert:hover {\n",
              "      background-color: #E2EBFA;\n",
              "      box-shadow: 0px 1px 2px rgba(60, 64, 67, 0.3), 0px 1px 3px 1px rgba(60, 64, 67, 0.15);\n",
              "      fill: #174EA6;\n",
              "    }\n",
              "\n",
              "    .colab-df-buttons div {\n",
              "      margin-bottom: 4px;\n",
              "    }\n",
              "\n",
              "    [theme=dark] .colab-df-convert {\n",
              "      background-color: #3B4455;\n",
              "      fill: #D2E3FC;\n",
              "    }\n",
              "\n",
              "    [theme=dark] .colab-df-convert:hover {\n",
              "      background-color: #434B5C;\n",
              "      box-shadow: 0px 1px 3px 1px rgba(0, 0, 0, 0.15);\n",
              "      filter: drop-shadow(0px 1px 2px rgba(0, 0, 0, 0.3));\n",
              "      fill: #FFFFFF;\n",
              "    }\n",
              "  </style>\n",
              "\n",
              "    <script>\n",
              "      const buttonEl =\n",
              "        document.querySelector('#df-877fad13-4885-43a8-97d6-40db43888f2a button.colab-df-convert');\n",
              "      buttonEl.style.display =\n",
              "        google.colab.kernel.accessAllowed ? 'block' : 'none';\n",
              "\n",
              "      async function convertToInteractive(key) {\n",
              "        const element = document.querySelector('#df-877fad13-4885-43a8-97d6-40db43888f2a');\n",
              "        const dataTable =\n",
              "          await google.colab.kernel.invokeFunction('convertToInteractive',\n",
              "                                                    [key], {});\n",
              "        if (!dataTable) return;\n",
              "\n",
              "        const docLinkHtml = 'Like what you see? Visit the ' +\n",
              "          '<a target=\"_blank\" href=https://colab.research.google.com/notebooks/data_table.ipynb>data table notebook</a>'\n",
              "          + ' to learn more about interactive tables.';\n",
              "        element.innerHTML = '';\n",
              "        dataTable['output_type'] = 'display_data';\n",
              "        await google.colab.output.renderOutput(dataTable, element);\n",
              "        const docLink = document.createElement('div');\n",
              "        docLink.innerHTML = docLinkHtml;\n",
              "        element.appendChild(docLink);\n",
              "      }\n",
              "    </script>\n",
              "  </div>\n",
              "\n",
              "\n",
              "<div id=\"df-2e6cd21c-1de2-48dc-ae75-6f930a77f64f\">\n",
              "  <button class=\"colab-df-quickchart\" onclick=\"quickchart('df-2e6cd21c-1de2-48dc-ae75-6f930a77f64f')\"\n",
              "            title=\"Suggest charts\"\n",
              "            style=\"display:none;\">\n",
              "\n",
              "<svg xmlns=\"http://www.w3.org/2000/svg\" height=\"24px\"viewBox=\"0 0 24 24\"\n",
              "     width=\"24px\">\n",
              "    <g>\n",
              "        <path d=\"M19 3H5c-1.1 0-2 .9-2 2v14c0 1.1.9 2 2 2h14c1.1 0 2-.9 2-2V5c0-1.1-.9-2-2-2zM9 17H7v-7h2v7zm4 0h-2V7h2v10zm4 0h-2v-4h2v4z\"/>\n",
              "    </g>\n",
              "</svg>\n",
              "  </button>\n",
              "\n",
              "<style>\n",
              "  .colab-df-quickchart {\n",
              "      --bg-color: #E8F0FE;\n",
              "      --fill-color: #1967D2;\n",
              "      --hover-bg-color: #E2EBFA;\n",
              "      --hover-fill-color: #174EA6;\n",
              "      --disabled-fill-color: #AAA;\n",
              "      --disabled-bg-color: #DDD;\n",
              "  }\n",
              "\n",
              "  [theme=dark] .colab-df-quickchart {\n",
              "      --bg-color: #3B4455;\n",
              "      --fill-color: #D2E3FC;\n",
              "      --hover-bg-color: #434B5C;\n",
              "      --hover-fill-color: #FFFFFF;\n",
              "      --disabled-bg-color: #3B4455;\n",
              "      --disabled-fill-color: #666;\n",
              "  }\n",
              "\n",
              "  .colab-df-quickchart {\n",
              "    background-color: var(--bg-color);\n",
              "    border: none;\n",
              "    border-radius: 50%;\n",
              "    cursor: pointer;\n",
              "    display: none;\n",
              "    fill: var(--fill-color);\n",
              "    height: 32px;\n",
              "    padding: 0;\n",
              "    width: 32px;\n",
              "  }\n",
              "\n",
              "  .colab-df-quickchart:hover {\n",
              "    background-color: var(--hover-bg-color);\n",
              "    box-shadow: 0 1px 2px rgba(60, 64, 67, 0.3), 0 1px 3px 1px rgba(60, 64, 67, 0.15);\n",
              "    fill: var(--button-hover-fill-color);\n",
              "  }\n",
              "\n",
              "  .colab-df-quickchart-complete:disabled,\n",
              "  .colab-df-quickchart-complete:disabled:hover {\n",
              "    background-color: var(--disabled-bg-color);\n",
              "    fill: var(--disabled-fill-color);\n",
              "    box-shadow: none;\n",
              "  }\n",
              "\n",
              "  .colab-df-spinner {\n",
              "    border: 2px solid var(--fill-color);\n",
              "    border-color: transparent;\n",
              "    border-bottom-color: var(--fill-color);\n",
              "    animation:\n",
              "      spin 1s steps(1) infinite;\n",
              "  }\n",
              "\n",
              "  @keyframes spin {\n",
              "    0% {\n",
              "      border-color: transparent;\n",
              "      border-bottom-color: var(--fill-color);\n",
              "      border-left-color: var(--fill-color);\n",
              "    }\n",
              "    20% {\n",
              "      border-color: transparent;\n",
              "      border-left-color: var(--fill-color);\n",
              "      border-top-color: var(--fill-color);\n",
              "    }\n",
              "    30% {\n",
              "      border-color: transparent;\n",
              "      border-left-color: var(--fill-color);\n",
              "      border-top-color: var(--fill-color);\n",
              "      border-right-color: var(--fill-color);\n",
              "    }\n",
              "    40% {\n",
              "      border-color: transparent;\n",
              "      border-right-color: var(--fill-color);\n",
              "      border-top-color: var(--fill-color);\n",
              "    }\n",
              "    60% {\n",
              "      border-color: transparent;\n",
              "      border-right-color: var(--fill-color);\n",
              "    }\n",
              "    80% {\n",
              "      border-color: transparent;\n",
              "      border-right-color: var(--fill-color);\n",
              "      border-bottom-color: var(--fill-color);\n",
              "    }\n",
              "    90% {\n",
              "      border-color: transparent;\n",
              "      border-bottom-color: var(--fill-color);\n",
              "    }\n",
              "  }\n",
              "</style>\n",
              "\n",
              "  <script>\n",
              "    async function quickchart(key) {\n",
              "      const quickchartButtonEl =\n",
              "        document.querySelector('#' + key + ' button');\n",
              "      quickchartButtonEl.disabled = true;  // To prevent multiple clicks.\n",
              "      quickchartButtonEl.classList.add('colab-df-spinner');\n",
              "      try {\n",
              "        const charts = await google.colab.kernel.invokeFunction(\n",
              "            'suggestCharts', [key], {});\n",
              "      } catch (error) {\n",
              "        console.error('Error during call to suggestCharts:', error);\n",
              "      }\n",
              "      quickchartButtonEl.classList.remove('colab-df-spinner');\n",
              "      quickchartButtonEl.classList.add('colab-df-quickchart-complete');\n",
              "    }\n",
              "    (() => {\n",
              "      let quickchartButtonEl =\n",
              "        document.querySelector('#df-2e6cd21c-1de2-48dc-ae75-6f930a77f64f button');\n",
              "      quickchartButtonEl.style.display =\n",
              "        google.colab.kernel.accessAllowed ? 'block' : 'none';\n",
              "    })();\n",
              "  </script>\n",
              "</div>\n",
              "\n",
              "    </div>\n",
              "  </div>\n"
            ],
            "application/vnd.google.colaboratory.intrinsic+json": {
              "type": "dataframe",
              "variable_name": "train_minmax",
              "summary": "{\n  \"name\": \"train_minmax\",\n  \"rows\": 25,\n  \"fields\": [\n    {\n      \"column\": \"STARTPOS1\",\n      \"properties\": {\n        \"dtype\": \"string\",\n        \"num_unique_values\": 25,\n        \"samples\": [\n          \"\\uc601\\ub4f1\\ud3ec\\uad6c\",\n          \"\\uac15\\ubd81\\uad6c\",\n          \"\\ub178\\uc6d0\\uad6c\"\n        ],\n        \"semantic_type\": \"\",\n        \"description\": \"\"\n      }\n    },\n    {\n      \"column\": \"count\",\n      \"properties\": {\n        \"dtype\": \"number\",\n        \"std\": 0.20975477357070574,\n        \"min\": 0.0,\n        \"max\": 0.9999999999999999,\n        \"num_unique_values\": 25,\n        \"samples\": [\n          0.27046476761619187,\n          0.18830584707646175,\n          0.9999999999999999\n        ],\n        \"semantic_type\": \"\",\n        \"description\": \"\"\n      }\n    },\n    {\n      \"column\": \"TIME1\",\n      \"properties\": {\n        \"dtype\": \"number\",\n        \"std\": 0.2614822744877603,\n        \"min\": 0.0,\n        \"max\": 1.0,\n        \"num_unique_values\": 24,\n        \"samples\": [\n          0.4759036144578316,\n          0.3795180722891568,\n          0.06024096385542177\n        ],\n        \"semantic_type\": \"\",\n        \"description\": \"\"\n      }\n    }\n  ]\n}"
            }
          },
          "metadata": {},
          "execution_count": 52
        }
      ]
    },
    {
      "cell_type": "code",
      "source": [
        "x_label = ['강서구', '노원구', '은평구', '송파구', '중랑구', '강동구', '관악구', '강남구', '구로구', '강북구',\n",
        "       '양천구', '성북구', '도봉구', '동대문구', '동작구', '마포구', '영등포구', '서대문구', '광진구', '금천구',\n",
        "       '서초구', '성동구', '용산구', '종로구', '중구']\n",
        "x = np.arange(len(train_minmax['TIME1']))\n",
        "y_1 = train_minmax['count']\n",
        "y_2 = train_minmax['TIME1']\n",
        "\n",
        "# 넓이 지정\n",
        "width = 0.4\n",
        "\n",
        "# subplots 생성\n",
        "fig, axes = plt.subplots()\n",
        "\n",
        "# 넓이 설정\n",
        "axes.barh(x - width/2, y_1, width, align='center', alpha=0.5)\n",
        "axes.barh(x + width/2, y_2, width, align='center', alpha=0.8)\n",
        "\n",
        "# xtick 설정\n",
        "plt.yticks(x)\n",
        "axes.set_yticklabels(x_label)\n",
        "\n",
        "plt.legend(['장애인콜택수 이용건수', '배차시간'])\n",
        "\n",
        "plt.show()"
      ],
      "metadata": {
        "colab": {
          "base_uri": "https://localhost:8080/"
        },
        "collapsed": true,
        "id": "C0bg4Jt33GeB",
        "outputId": "3406f73a-c792-4969-9d63-ca9f1d7d4ffc"
      },
      "execution_count": null,
      "outputs": [
        {
          "output_type": "display_data",
          "data": {
            "text/plain": [
              "<Figure size 640x480 with 1 Axes>"
            ],
            "image/png": "[encoded data removed]"
          },
          "metadata": {}
        }
      ]
    },
    {
      "cell_type": "code",
      "source": [
        "x_label = ['강서', '노원', '은평', '송파', '중랑', '강동', '관악', '강남', '구로', '강북',\n",
        "       '양천', '성북', '도봉', '동대문', '동작', '마포', '영등포', '서대문', '광진', '금천',\n",
        "       '서초', '성동', '용산', '종로', '중구']\n",
        "x = np.arange(len(train_minmax['TIME1']))\n",
        "y_1 = train_minmax['count']\n",
        "y_2 = train_minmax['TIME1']\n",
        "\n",
        "# 넓이 지정\n",
        "width = 0.35\n",
        "\n",
        "# subplots 생성\n",
        "fig, axes = plt.subplots()\n",
        "\n",
        "# 넓이 설정\n",
        "axes.bar(x - width/2, y_1, width, align='center', alpha=0.5)\n",
        "axes.bar(x + width/2, y_2, width, align='center', alpha=0.8)\n",
        "\n",
        "# xtick 설정\n",
        "plt.xticks(x)\n",
        "axes.set_xticklabels(x_label)\n",
        "plt.legend(['장애인콜택수 이용건수', '배차시간'])\n",
        "\n",
        "plt.show()"
      ],
      "metadata": {
        "colab": {
          "base_uri": "https://localhost:8080/",
          "height": 426
        },
        "id": "taDDMk5D40rj",
        "outputId": "5f8f3ae2-828e-46db-d0a1-fcd5f82c2d8a"
      },
      "execution_count": null,
      "outputs": [
        {
          "output_type": "display_data",
          "data": {
            "text/plain": [
              "<Figure size 640x480 with 1 Axes>"
            ],
            "image/png": "[encoded data removed]"
          },
          "metadata": {}
        }
      ]
    }
  ]
}